{
 "cells": [
  {
   "cell_type": "code",
   "execution_count": 1,
   "id": "45edcb50-b448-4279-a5f7-c00c5a5beb65",
   "metadata": {},
   "outputs": [],
   "source": [
    "import pandas as pd\n",
    "import seaborn as sns\n",
    "import glob\n",
    "from numpy import genfromtxt\n",
    "# from sklearn.metrics import f1_score\n",
    "from matplotlib import pyplot as plt\n",
    "import numpy as np\n",
    "import json\n",
    "from collections import OrderedDict\n",
    "import os\n",
    "import re\n",
    "import logging\n",
    "import multiprocessing\n",
    "from functools import partial\n",
    "from datetime import datetime\n",
    "from Bio import SeqIO\n",
    "from Bio.Seq import Seq\n",
    "import gzip\n",
    "from sklearn import preprocessing\n",
    "from sklearn.feature_selection import VarianceThreshold\n",
    "# https://pandas.pydata.org/docs/getting_started/intro_tutorials/03_subset_data.html"
   ]
  },
  {
   "cell_type": "code",
   "execution_count": 2,
   "id": "b482adf5-593a-4af8-9eee-a7c06a487fc2",
   "metadata": {},
   "outputs": [],
   "source": [
    "### panta input directory (prokka)\n",
    "pantain_dirdb = 'data/prokka/Ecoli1936/prokka_train/train1/'\n",
    "pantain_dir = 'data/prokka/Ecoli1936/prokka_test/test1/'\n",
    "### panta output directory\n",
    "pantaout_dirdb = 'data/pantaOut/pantatrain1/'\n",
    "pantaout_dir = 'data/pantaOut/pantatest1/'\n",
    "\n",
    "### panta input directory (prokka)\n",
    "# pantain_dirdb = 'data/Ecoli1936/prokka_train/train1/'\n",
    "# pantain_dir = 'data/Ecoli1936/prokka_test/test1/'\n",
    "# ### panta output directory\n",
    "# pantaout_dirdb = 'output/pantatrain1/'\n",
    "# pantaout_dir = 'output/pantatest1/'"
   ]
  },
  {
   "cell_type": "markdown",
   "id": "e7f66f68-579a-4c83-a1c2-470e8c8f7407",
   "metadata": {},
   "source": [
    "## Find correspondence (injection) from db-database (train set) clusters to test clusters\n",
    "#### use the representative genes"
   ]
  },
  {
   "cell_type": "code",
   "execution_count": 3,
   "id": "506f592d-afc4-4493-9cf4-539b28b9e5c0",
   "metadata": {},
   "outputs": [],
   "source": [
    "# find representative gene for each cluster\n",
    "with open(pantaout_dir + 'annotated_clusters.json', 'r') as JSON:\n",
    "    json_dict = json.load(JSON)\n",
    "    \n",
    "cluster2representativegenedict = {}\n",
    "representativegene2clusterdict = {}\n",
    "for key in json_dict:\n",
    "    cluster2representativegenedict[key] = json_dict[key]['representative']\n",
    "    representativegene2clusterdict[json_dict[key]['representative']] = key"
   ]
  },
  {
   "cell_type": "code",
   "execution_count": 4,
   "id": "e4652789-594c-4076-a8cf-67c8b6eb1100",
   "metadata": {},
   "outputs": [],
   "source": [
    "with open(pantaout_dirdb + 'annotated_clusters.json', 'r') as JSON:\n",
    "    json_dictdb = json.load(JSON)\n",
    "\n",
    "cluster2representativegenedictdb = {}\n",
    "representativegenedict2clusterdb = {}\n",
    "for key in json_dictdb:\n",
    "    cluster2representativegenedictdb[key] = json_dictdb[key]['representative']\n",
    "    representativegenedict2clusterdb[json_dictdb[key]['representative']] = key"
   ]
  },
  {
   "cell_type": "code",
   "execution_count": 5,
   "id": "68ecce75-6574-471a-b21a-1c2619f50729",
   "metadata": {},
   "outputs": [],
   "source": [
    "# for key in json_dict:\n",
    "#     print(key, json_dict[key])\n",
    "#     break;"
   ]
  },
  {
   "cell_type": "code",
   "execution_count": 6,
   "id": "0a6105c0-b1c0-4fae-b8bb-bb306ddb20b6",
   "metadata": {},
   "outputs": [],
   "source": [
    "## PA matrix of db\n",
    "pa_matrixdb = pd.read_csv(pantaout_dirdb+'gene_presence_absence.Rtab', sep='\\t', index_col=0).T\n",
    "n_samples = pa_matrixdb.shape[0]\n",
    "n_genes = pa_matrixdb.shape[1]\n",
    "colsumdb = pa_matrixdb.sum()\n",
    "core_gene_clusterdb = [colsumdb.index[idx] for idx in range(n_genes) if colsumdb[idx] >= 0.9999*n_samples] # E. coli"
   ]
  },
  {
   "cell_type": "code",
   "execution_count": 7,
   "id": "95f0eeb7-adbc-4ce4-82d2-68bff57acd2a",
   "metadata": {},
   "outputs": [],
   "source": [
    "## PA matrix of new samples\n",
    "pa_matrix = pd.read_csv(pantaout_dir+'gene_presence_absence.Rtab', sep='\\t', index_col=0).T"
   ]
  },
  {
   "cell_type": "code",
   "execution_count": 8,
   "id": "88a5948e-ce66-4088-b09e-7ec4cc73910e",
   "metadata": {},
   "outputs": [],
   "source": [
    "clusters = list(pa_matrix.columns)\n",
    "clustersdb = list(pa_matrixdb.columns)"
   ]
  },
  {
   "cell_type": "code",
   "execution_count": 9,
   "id": "1e37f23f-64c5-4ac2-ab6c-66379ba08457",
   "metadata": {},
   "outputs": [],
   "source": [
    "clustersdb2clustersdict = {}\n",
    "for idx in range(len(clustersdb)):\n",
    "    # clustersdb[idx]\n",
    "    repidxdb = cluster2representativegenedictdb[clustersdb[idx]]\n",
    "    if  repidxdb in representativegene2clusterdict:\n",
    "        correspond_cluster = representativegene2clusterdict[repidxdb]\n",
    "        clustersdb2clustersdict[clustersdb[idx]] = correspond_cluster\n",
    "    else:\n",
    "        for key in json_dict:\n",
    "            if repidxdb in json_dict[key]['gene_id']:\n",
    "                correspond_cluster = key\n",
    "                clustersdb2clustersdict[clustersdb[idx]] = correspond_cluster\n",
    "                break;"
   ]
  },
  {
   "cell_type": "code",
   "execution_count": 10,
   "id": "19b7dbb4-049b-4997-ad1d-2fd53591d2e7",
   "metadata": {},
   "outputs": [],
   "source": [
    "# change the order of presence and absence matrix\n",
    "dbclusterindex = [clustersdb2clustersdict[key] for key in clustersdb]\n",
    "# PA matrix of test set\n",
    "pa_matrixnew = pa_matrix[dbclusterindex]"
   ]
  },
  {
   "cell_type": "code",
   "execution_count": 11,
   "id": "96d836ad-7d3b-4de9-8655-5873e4710205",
   "metadata": {},
   "outputs": [],
   "source": [
    "# Note that the cluster name can be different but they share the rep gene"
   ]
  },
  {
   "cell_type": "markdown",
   "id": "ee16af0c-6a5f-4ff1-85ff-0a937b7cd8e4",
   "metadata": {
    "tags": []
   },
   "source": [
    "# Feature engineering"
   ]
  },
  {
   "cell_type": "markdown",
   "id": "bf3b26f6-8286-43a4-b34d-6ea6126783b6",
   "metadata": {
    "tags": []
   },
   "source": [
    "## Find all AMR clusters (db)"
   ]
  },
  {
   "cell_type": "code",
   "execution_count": 14,
   "id": "b72aaf11-5805-4066-a9dc-86e11cdf49b2",
   "metadata": {
    "tags": []
   },
   "outputs": [],
   "source": [
    "from pangraph.utils import parse_gff_AMRgene_finder"
   ]
  },
  {
   "cell_type": "code",
   "execution_count": 15,
   "id": "a5175a6b-93bf-428e-9cdf-e30dc0f7af8f",
   "metadata": {
    "tags": []
   },
   "outputs": [],
   "source": [
    "amr_gene = []\n",
    "for data_dir in glob.glob(pantain_dirdb + '*.gff'):\n",
    "    # print(data_dir)\n",
    "    in_fh = open(data_dir)\n",
    "    sample_id = data_dir.split('/')[-1][:-4]\n",
    "    amr_gene += parse_gff_AMRgene_finder(in_fh, sample_id)\n",
    "    in_fh.close()"
   ]
  },
  {
   "cell_type": "code",
   "execution_count": 16,
   "id": "3aa7525a-448d-4f50-952d-33c23165b187",
   "metadata": {},
   "outputs": [],
   "source": [
    "# amr_gene[:3], len(amr_gene)"
   ]
  },
  {
   "cell_type": "code",
   "execution_count": 17,
   "id": "4c9a3f18-1607-4d78-8607-dc5f3c97f9ad",
   "metadata": {},
   "outputs": [],
   "source": [
    "## Create map from gene ID to cluster ID (db)\n",
    "with open(pantaout_dirdb + 'annotated_clusters.json', 'r') as JSON:\n",
    "    json_dictdb = json.load(JSON)\n",
    "\n",
    "gene2clusterdictdb = {}\n",
    "for key in json_dictdb:\n",
    "    if len(json_dictdb[key])==0:\n",
    "        gene2clusterdictdb[key] = key\n",
    "    for gene in json_dictdb[key]['gene_id']:\n",
    "        gene2clusterdictdb[gene] = key"
   ]
  },
  {
   "cell_type": "code",
   "execution_count": 18,
   "id": "46f1c9b1-de33-42d5-816b-9eecc858e70f",
   "metadata": {},
   "outputs": [],
   "source": [
    "#### Map genes back to cluster IDs\n",
    "amr_clusterID = [gene2clusterdictdb[gene] for gene in amr_gene]\n",
    "amr_clusterID = list(set(amr_clusterID))"
   ]
  },
  {
   "cell_type": "code",
   "execution_count": 19,
   "id": "266849d4-ae30-4a94-beb8-4d9ee1e098c1",
   "metadata": {},
   "outputs": [
    {
     "data": {
      "text/plain": [
       "(216, ['catA2', 'mph_A_', 'alsC', 'glnQ'])"
      ]
     },
     "execution_count": 19,
     "metadata": {},
     "output_type": "execute_result"
    }
   ],
   "source": [
    "len(amr_clusterID), amr_clusterID[0:4]"
   ]
  },
  {
   "cell_type": "markdown",
   "id": "9e02428e-8e65-4ad4-824f-bd4c90bb0b28",
   "metadata": {
    "tags": []
   },
   "source": [
    "## Compute K-mer of AMR clusters (db)"
   ]
  },
  {
   "cell_type": "code",
   "execution_count": 20,
   "id": "16dc5b4c-ef10-443d-8745-3cc1ef4537e6",
   "metadata": {},
   "outputs": [],
   "source": [
    "from pangraph.utils import binary_label\n",
    "from sklearn.feature_selection import mutual_info_classif, chi2"
   ]
  },
  {
   "cell_type": "code",
   "execution_count": 21,
   "id": "c49c5351-5201-43e4-8421-97fd34966840",
   "metadata": {},
   "outputs": [],
   "source": [
    "# # Read prepresentative sequence\n",
    "# from Bio import SeqIO\n",
    "# genecluster2representativeseq = {}\n",
    "# with open(pantaout_dirDB+'representative_clusters_prot.fasta') as handle:\n",
    "#     for record in SeqIO.parse(handle, \"fasta\"):\n",
    "#         name, sequence = record.id, str(record.seq)\n",
    "#         genecluster2representativeseq[name] = sequence\n",
    "#         # print(name,'----', sequence)"
   ]
  },
  {
   "cell_type": "code",
   "execution_count": 22,
   "id": "9f9aaca6-c302-4876-867c-efce7f26c9f7",
   "metadata": {},
   "outputs": [],
   "source": [
    "with open(pantaout_dirdb + 'samples.json', 'r') as JSON:\n",
    "    sample_dictdb = json.load(JSON)\n",
    "sample2integerindexdb = {}\n",
    "for idx in range(len(sample_dictdb)):\n",
    "    sample2integerindexdb[sample_dictdb[idx]['id']] = idx\n",
    "n_samplesdb = len(sample_dictdb)"
   ]
  },
  {
   "cell_type": "code",
   "execution_count": 23,
   "id": "86a9b1ce-d4cc-4172-ae6b-f0271c953a15",
   "metadata": {},
   "outputs": [],
   "source": [
    "computed_gene_cluster = amr_clusterID;"
   ]
  },
  {
   "cell_type": "code",
   "execution_count": 24,
   "id": "3b272bf7-f218-43e1-b508-7f4aaf547ffe",
   "metadata": {},
   "outputs": [],
   "source": [
    "# amr_mat = None;\n",
    "ksize = 10; # k = 10 for protein, 20 for DNA\n",
    "kmer_list = [];\n",
    "pairdata = []\n",
    "for idx in range(len(computed_gene_cluster)):\n",
    "    alignment_dir = pantaout_dirdb + 'clusters/' + computed_gene_cluster[idx] +'/'+computed_gene_cluster[idx]+'.faa.aln.gz'\n",
    "    # alignment_dir = pantaout_dir + 'clusters/' + computed_gene_cluster[idx] +'/'+computed_gene_cluster[idx]+'.fna.aln.gz'\n",
    "    with gzip.open(alignment_dir, \"rt\") as handle:\n",
    "        for record in SeqIO.parse(handle, \"fasta\"):\n",
    "            name, sequence = record.id, str(record.seq)\n",
    "            sample_id = name.split('-')[0]\n",
    "            seqraw = sequence.replace('-', '')\n",
    "            n_kmers = len(seqraw) - ksize + 1\n",
    "            for i in range(n_kmers):\n",
    "                kmer = seqraw[i:i + ksize] \n",
    "                # kmer = computed_gene_cluster[idx] + seqraw[i:i + ksize] # compute unique kmer for eaach cluster\n",
    "                kmer_list.append(kmer)\n",
    "                pairdata.append((sample2integerindexdb[sample_id], kmer))"
   ]
  },
  {
   "cell_type": "code",
   "execution_count": 25,
   "id": "6f084e88-8ea8-49dd-ae1d-30dc4a8f8121",
   "metadata": {},
   "outputs": [],
   "source": [
    "unique_kmer = list(set(kmer_list))"
   ]
  },
  {
   "cell_type": "code",
   "execution_count": 26,
   "id": "e9d49b57-7831-4d57-b5ed-6bb4a1b1ebe9",
   "metadata": {},
   "outputs": [],
   "source": [
    "kmer2index = {}\n",
    "for i in range(len(unique_kmer)):\n",
    "    kmer2index[unique_kmer[i]] = i"
   ]
  },
  {
   "cell_type": "code",
   "execution_count": 27,
   "id": "d14d3ac1-3ccb-4189-adf2-97d06edaaa99",
   "metadata": {},
   "outputs": [],
   "source": [
    "kmer_matrix = np.zeros((n_samplesdb, len(unique_kmer)))"
   ]
  },
  {
   "cell_type": "code",
   "execution_count": 28,
   "id": "f8123f83-0239-469f-84c1-d2babd6809f8",
   "metadata": {},
   "outputs": [],
   "source": [
    "# ct = 0\n",
    "for u, v in pairdata:\n",
    "    # kmer_matrix[u, kmer2index[v]] += 1\n",
    "    kmer_matrix[u, kmer2index[v]] = 1"
   ]
  },
  {
   "cell_type": "code",
   "execution_count": 29,
   "id": "48f11333-2bb5-489e-aade-0c44dd2aca43",
   "metadata": {},
   "outputs": [
    {
     "data": {
      "text/plain": [
       "(1248, 188685)"
      ]
     },
     "execution_count": 29,
     "metadata": {},
     "output_type": "execute_result"
    }
   ],
   "source": [
    "kmer_matrix.shape"
   ]
  },
  {
   "cell_type": "code",
   "execution_count": 30,
   "id": "37bdc10b-ac67-44c5-8a2c-bffeae3ba464",
   "metadata": {},
   "outputs": [],
   "source": [
    "# selector = VarianceThreshold(threshold=0.05)\n",
    "selector = VarianceThreshold(threshold=0.01)\n",
    "kmer_matrix_VT = selector.fit_transform(kmer_matrix)"
   ]
  },
  {
   "cell_type": "code",
   "execution_count": 31,
   "id": "1a363b5f-e68c-42f0-a8a2-5ca8af33427c",
   "metadata": {},
   "outputs": [
    {
     "data": {
      "text/plain": [
       "(1248, 66461)"
      ]
     },
     "execution_count": 31,
     "metadata": {},
     "output_type": "execute_result"
    }
   ],
   "source": [
    "# (1653, 59580)\n",
    "kmer_matrix_VT.shape"
   ]
  },
  {
   "cell_type": "code",
   "execution_count": 33,
   "id": "24ff897a-2f35-458d-a23a-48683ca5ac3f",
   "metadata": {},
   "outputs": [],
   "source": [
    "kmerindexdb = np.array(unique_kmer)[selector.get_support()==True]"
   ]
  },
  {
   "cell_type": "code",
   "execution_count": 35,
   "id": "536e4a64-f701-4b28-ba2d-3a892078aca0",
   "metadata": {},
   "outputs": [],
   "source": [
    "kmer_matrixdbdf = pd.DataFrame(kmer_matrix_VT, columns = kmerindexdb)"
   ]
  },
  {
   "cell_type": "code",
   "execution_count": 36,
   "id": "93c3b0a0-d0cd-44cc-b567-20e9e72f1f1f",
   "metadata": {},
   "outputs": [
    {
     "data": {
      "text/plain": [
       "(array([[0., 0., 0., ..., 0., 1., 0.],\n",
       "        [0., 0., 0., ..., 0., 0., 0.],\n",
       "        [0., 0., 1., ..., 0., 1., 0.],\n",
       "        ...,\n",
       "        [0., 1., 1., ..., 0., 0., 0.],\n",
       "        [0., 1., 1., ..., 0., 0., 0.],\n",
       "        [0., 0., 0., ..., 0., 0., 0.]]),\n",
       " (1248, 66461),\n",
       " array(['NKATLIVEDD', 'PILMGFWIRG', 'VAKSLITMVQ', ..., 'GKSLKWGLNH',\n",
       "        'TANNHADFAR', 'AGGGIALPAL'], dtype='<U10'),\n",
       " (66461,))"
      ]
     },
     "execution_count": 36,
     "metadata": {},
     "output_type": "execute_result"
    }
   ],
   "source": [
    "kmer_matrix_VT, kmer_matrix_VT.shape, kmerindexdb, kmerindexdb.shape"
   ]
  },
  {
   "cell_type": "markdown",
   "id": "7181d001-cb11-4c4f-8c48-96e24ef68697",
   "metadata": {
    "tags": []
   },
   "source": [
    "## Compute K-mer of AMR clusters (test)"
   ]
  },
  {
   "cell_type": "code",
   "execution_count": 37,
   "id": "17da0625-e1a4-4483-9b82-40d8fd27a67e",
   "metadata": {},
   "outputs": [],
   "source": [
    "with open(pantaout_dir + 'samples.json', 'r') as JSON:\n",
    "    sample_dict = json.load(JSON)\n",
    "sample2integerindex = {}\n",
    "for idx in range(len(sample_dict)):\n",
    "    sample2integerindex[sample_dict[idx]['id']] = idx\n",
    "n_samples = len(sample_dict)"
   ]
  },
  {
   "cell_type": "code",
   "execution_count": 38,
   "id": "c93a57f3-84a8-4207-9eec-0a360846fa8e",
   "metadata": {},
   "outputs": [],
   "source": [
    "computed_gene_cluster = [clustersdb2clustersdict[cluster] for cluster in amr_clusterID];"
   ]
  },
  {
   "cell_type": "code",
   "execution_count": 39,
   "id": "f57b0504-b48f-4dfe-ad3e-b4c4031cd635",
   "metadata": {},
   "outputs": [],
   "source": [
    "# amr_mat = None;\n",
    "ksize = 10; # k = 10 for protein, 20 for DNA\n",
    "kmer_list = [];\n",
    "pairdata = []\n",
    "for idx in range(len(computed_gene_cluster)):\n",
    "    alignment_dir = pantaout_dir + 'clusters/' + computed_gene_cluster[idx] +'/'+computed_gene_cluster[idx]+'.faa.aln.gz'\n",
    "    # alignment_dir = pantaout_dir + 'clusters/' + computed_gene_cluster[idx] +'/'+computed_gene_cluster[idx]+'.fna.aln.gz'\n",
    "    with gzip.open(alignment_dir, \"rt\") as handle:\n",
    "        for record in SeqIO.parse(handle, \"fasta\"):\n",
    "            name, sequence = record.id, str(record.seq)\n",
    "            sample_id = name.split('-')[0]\n",
    "            seqraw = sequence.replace('-', '')\n",
    "            n_kmers = len(seqraw) - ksize + 1\n",
    "            for i in range(n_kmers):\n",
    "                kmer = seqraw[i:i + ksize] \n",
    "                kmer_list.append(kmer)\n",
    "                pairdata.append((sample2integerindex[sample_id], kmer))"
   ]
  },
  {
   "cell_type": "code",
   "execution_count": 40,
   "id": "7df40254-3128-4174-9a66-7100d487f445",
   "metadata": {},
   "outputs": [],
   "source": [
    "unique_kmer = list(set(kmer_list))"
   ]
  },
  {
   "cell_type": "code",
   "execution_count": 41,
   "id": "e4edf5c9-880d-4c98-b83a-2db63c6dadba",
   "metadata": {},
   "outputs": [],
   "source": [
    "kmer2index = {}\n",
    "for i in range(len(unique_kmer)):\n",
    "    kmer2index[unique_kmer[i]] = i"
   ]
  },
  {
   "cell_type": "code",
   "execution_count": 42,
   "id": "4da066d3-b971-4441-a374-5b919883f583",
   "metadata": {},
   "outputs": [],
   "source": [
    "kmer_matrix = np.zeros((n_samples, len(unique_kmer)))"
   ]
  },
  {
   "cell_type": "code",
   "execution_count": 43,
   "id": "de2518cd-0d81-49fc-b1ce-3b069ffaa8c0",
   "metadata": {},
   "outputs": [],
   "source": [
    "# ct = 0\n",
    "for u, v in pairdata:\n",
    "    # kmer_matrix[u, kmer2index[v]] += 1\n",
    "    kmer_matrix[u, kmer2index[v]] = 1"
   ]
  },
  {
   "cell_type": "code",
   "execution_count": 44,
   "id": "8962c76c-c8b9-4ceb-88e3-cb31e09f476e",
   "metadata": {},
   "outputs": [
    {
     "data": {
      "text/plain": [
       "(1653, 194690)"
      ]
     },
     "execution_count": 44,
     "metadata": {},
     "output_type": "execute_result"
    }
   ],
   "source": [
    "kmer_matrix.shape"
   ]
  },
  {
   "cell_type": "code",
   "execution_count": 45,
   "id": "89f488e8-effa-4496-b0cb-9f474eb41826",
   "metadata": {},
   "outputs": [],
   "source": [
    "kmer_matrixdf = pd.DataFrame(kmer_matrix, columns=unique_kmer)"
   ]
  },
  {
   "cell_type": "code",
   "execution_count": 46,
   "id": "402a01dc-da1d-4f10-9aaa-37cdf177be64",
   "metadata": {},
   "outputs": [],
   "source": [
    "newkmerindexdb = list(set(kmerindexdb).difference(set(unique_kmer)))"
   ]
  },
  {
   "cell_type": "code",
   "execution_count": 47,
   "id": "47c23ee8-79b1-42c7-949e-aa7fcc98e99c",
   "metadata": {},
   "outputs": [],
   "source": [
    "kmer_matrixdf[newkmerindexdb] = 0"
   ]
  },
  {
   "cell_type": "code",
   "execution_count": 48,
   "id": "09c3de43-36b1-4220-bf07-2a3b0a586dcb",
   "metadata": {},
   "outputs": [],
   "source": [
    "kmer_matrixdftest = kmer_matrixdf[kmerindexdb]"
   ]
  },
  {
   "cell_type": "code",
   "execution_count": 49,
   "id": "6d51e6e4-7ad4-4893-a1ac-3849d951fbde",
   "metadata": {},
   "outputs": [
    {
     "data": {
      "text/plain": [
       "(1653, 66461)"
      ]
     },
     "execution_count": 49,
     "metadata": {},
     "output_type": "execute_result"
    }
   ],
   "source": [
    "kmer_matrixdftest.shape"
   ]
  },
  {
   "cell_type": "code",
   "execution_count": 50,
   "id": "bee7201e-bea1-46a5-a33f-9dc0380a2140",
   "metadata": {},
   "outputs": [],
   "source": [
    "kmer_matrix_VT = kmer_matrixdftest.values\n",
    "# np.save(pantaout_dir + 'KmerEncoderAMRGenesSubmission.npy', kmer_matrix_VT) # save numpy array"
   ]
  },
  {
   "cell_type": "code",
   "execution_count": 51,
   "id": "8e4dd007-066e-4564-a8f0-5b53d959a983",
   "metadata": {},
   "outputs": [],
   "source": [
    "# np.save(pantaout_dir + 'KmerEncoderAMRGenesSubmission_index.npy', kmerindexdb) # save numpy array"
   ]
  },
  {
   "cell_type": "code",
   "execution_count": 52,
   "id": "c2f82bba-0ede-4d8e-8f13-98b03fe69fed",
   "metadata": {},
   "outputs": [
    {
     "data": {
      "text/html": [
       "<div>\n",
       "<style scoped>\n",
       "    .dataframe tbody tr th:only-of-type {\n",
       "        vertical-align: middle;\n",
       "    }\n",
       "\n",
       "    .dataframe tbody tr th {\n",
       "        vertical-align: top;\n",
       "    }\n",
       "\n",
       "    .dataframe thead th {\n",
       "        text-align: right;\n",
       "    }\n",
       "</style>\n",
       "<table border=\"1\" class=\"dataframe\">\n",
       "  <thead>\n",
       "    <tr style=\"text-align: right;\">\n",
       "      <th></th>\n",
       "      <th>NKATLIVEDD</th>\n",
       "      <th>PILMGFWIRG</th>\n",
       "      <th>VAKSLITMVQ</th>\n",
       "      <th>ATEKSMSQIQ</th>\n",
       "      <th>STVTEGALVT</th>\n",
       "      <th>IYPRAQFTKV</th>\n",
       "      <th>LGDSQRAQLV</th>\n",
       "      <th>LQLLSDALGE</th>\n",
       "      <th>MKNLKNRQRA</th>\n",
       "      <th>LSALTASWSR</th>\n",
       "      <th>...</th>\n",
       "      <th>ITLSKEEFEE</th>\n",
       "      <th>QQTMEPGMTV</th>\n",
       "      <th>FNLFIGAFVH</th>\n",
       "      <th>IAPPTITISA</th>\n",
       "      <th>LRGDRALTPC</th>\n",
       "      <th>GVRLPVLNRA</th>\n",
       "      <th>IMTGGGFVGI</th>\n",
       "      <th>GKSLKWGLNH</th>\n",
       "      <th>TANNHADFAR</th>\n",
       "      <th>AGGGIALPAL</th>\n",
       "    </tr>\n",
       "  </thead>\n",
       "  <tbody>\n",
       "    <tr>\n",
       "      <th>0</th>\n",
       "      <td>0.0</td>\n",
       "      <td>0.0</td>\n",
       "      <td>0.0</td>\n",
       "      <td>1.0</td>\n",
       "      <td>1.0</td>\n",
       "      <td>0.0</td>\n",
       "      <td>0.0</td>\n",
       "      <td>0.0</td>\n",
       "      <td>1.0</td>\n",
       "      <td>0.0</td>\n",
       "      <td>...</td>\n",
       "      <td>0.0</td>\n",
       "      <td>0.0</td>\n",
       "      <td>1.0</td>\n",
       "      <td>0.0</td>\n",
       "      <td>0.0</td>\n",
       "      <td>0.0</td>\n",
       "      <td>0.0</td>\n",
       "      <td>0.0</td>\n",
       "      <td>1.0</td>\n",
       "      <td>0.0</td>\n",
       "    </tr>\n",
       "    <tr>\n",
       "      <th>1</th>\n",
       "      <td>0.0</td>\n",
       "      <td>0.0</td>\n",
       "      <td>0.0</td>\n",
       "      <td>1.0</td>\n",
       "      <td>1.0</td>\n",
       "      <td>0.0</td>\n",
       "      <td>0.0</td>\n",
       "      <td>1.0</td>\n",
       "      <td>0.0</td>\n",
       "      <td>0.0</td>\n",
       "      <td>...</td>\n",
       "      <td>0.0</td>\n",
       "      <td>0.0</td>\n",
       "      <td>0.0</td>\n",
       "      <td>0.0</td>\n",
       "      <td>0.0</td>\n",
       "      <td>1.0</td>\n",
       "      <td>1.0</td>\n",
       "      <td>0.0</td>\n",
       "      <td>0.0</td>\n",
       "      <td>0.0</td>\n",
       "    </tr>\n",
       "  </tbody>\n",
       "</table>\n",
       "<p>2 rows × 66461 columns</p>\n",
       "</div>"
      ],
      "text/plain": [
       "   NKATLIVEDD  PILMGFWIRG  VAKSLITMVQ  ATEKSMSQIQ  STVTEGALVT  IYPRAQFTKV  \\\n",
       "0         0.0         0.0         0.0         1.0         1.0         0.0   \n",
       "1         0.0         0.0         0.0         1.0         1.0         0.0   \n",
       "\n",
       "   LGDSQRAQLV  LQLLSDALGE  MKNLKNRQRA  LSALTASWSR  ...  ITLSKEEFEE  \\\n",
       "0         0.0         0.0         1.0         0.0  ...         0.0   \n",
       "1         0.0         1.0         0.0         0.0  ...         0.0   \n",
       "\n",
       "   QQTMEPGMTV  FNLFIGAFVH  IAPPTITISA  LRGDRALTPC  GVRLPVLNRA  IMTGGGFVGI  \\\n",
       "0         0.0         1.0         0.0         0.0         0.0         0.0   \n",
       "1         0.0         0.0         0.0         0.0         1.0         1.0   \n",
       "\n",
       "   GKSLKWGLNH  TANNHADFAR  AGGGIALPAL  \n",
       "0         0.0         1.0         0.0  \n",
       "1         0.0         0.0         0.0  \n",
       "\n",
       "[2 rows x 66461 columns]"
      ]
     },
     "execution_count": 52,
     "metadata": {},
     "output_type": "execute_result"
    }
   ],
   "source": [
    "kmer_matrixdftest.head(2)"
   ]
  },
  {
   "cell_type": "code",
   "execution_count": 53,
   "id": "81f55a34-d5ce-4559-a883-fba6f456dc64",
   "metadata": {},
   "outputs": [
    {
     "data": {
      "text/plain": [
       "array(['NKATLIVEDD', 'PILMGFWIRG', 'VAKSLITMVQ', ..., 'GKSLKWGLNH',\n",
       "       'TANNHADFAR', 'AGGGIALPAL'], dtype='<U10')"
      ]
     },
     "execution_count": 53,
     "metadata": {},
     "output_type": "execute_result"
    }
   ],
   "source": [
    "kmerindexdb"
   ]
  },
  {
   "cell_type": "markdown",
   "id": "331bef05-0fbd-49e3-92fa-4d55b8f18ead",
   "metadata": {
    "tags": []
   },
   "source": [
    "## Compute label encoder for core gene clusters (db)"
   ]
  },
  {
   "cell_type": "code",
   "execution_count": 54,
   "id": "13d83b5f-3055-4d61-804b-33ac663bbd9f",
   "metadata": {},
   "outputs": [],
   "source": [
    "computed_gene_cluster = core_gene_clusterdb;"
   ]
  },
  {
   "cell_type": "code",
   "execution_count": 55,
   "id": "7ccc74e3-6277-4231-9ec8-942027633f60",
   "metadata": {},
   "outputs": [
    {
     "data": {
      "text/plain": [
       "LabelEncoder()"
      ]
     },
     "execution_count": 55,
     "metadata": {},
     "output_type": "execute_result"
    }
   ],
   "source": [
    "codes = ['A', 'C', 'D', 'E', 'F', 'G', 'H', 'I', 'K', 'L', 'M', 'N', 'P', 'Q', 'R', 'S', 'T', 'V', 'W', 'Y', '-', 'X']\n",
    "le = preprocessing.LabelEncoder()\n",
    "le.fit(codes)"
   ]
  },
  {
   "cell_type": "code",
   "execution_count": 56,
   "id": "d302a8f4-e444-4745-a7b8-b477735b5827",
   "metadata": {},
   "outputs": [],
   "source": [
    "amr_mat = None;\n",
    "# start_idx = [0];\n",
    "# pass_gene_cluster = [];\n",
    "positional_index = [];\n",
    "# for idx in range(2):\n",
    "for idx in range(len(computed_gene_cluster)):\n",
    "    alignment_dir = pantaout_dirdb + 'clusters/' + computed_gene_cluster[idx] +'/'+computed_gene_cluster[idx]+'.faa.aln.gz'\n",
    "    mat = None; index = 0; index_set = []; selected_location = []\n",
    "    with gzip.open(alignment_dir, \"rt\") as handle:\n",
    "        for record in SeqIO.parse(handle, \"fasta\"):\n",
    "            name, sequence = record.id, str(record.seq)\n",
    "            sample_id = name.split('-')[0]\n",
    "            if index == 0:\n",
    "                mat = np.zeros((n_samplesdb, len(sequence)))\n",
    "            index += 1\n",
    "            mat[sample2integerindexdb[sample_id],:] = 1 + le.transform([*sequence])\n",
    "            index_set.append(sample2integerindexdb[sample_id])\n",
    "            if name == cluster2representativegenedictdb[computed_gene_cluster[idx]]:\n",
    "                # print(idx, sequence)\n",
    "                selected_location = [pos for pos, char in enumerate(sequence) if char != '-']\n",
    "                # print(selected_location)\n",
    "    mat = mat[:, selected_location] #only select the position where representative sequence is not \"-\"\n",
    "    if idx==0:\n",
    "        amr_mat = mat\n",
    "        positional_index += [computed_gene_cluster[idx] +'@'+ str(i) for i in range(mat.shape[1])]\n",
    "    else:\n",
    "        variant_thres = 0; vs = True;\n",
    "        if len(index_set) >= int(n_samplesdb*0.01):\n",
    "            try:\n",
    "                sel = VarianceThreshold(variant_thres)\n",
    "                sel.fit(mat[index_set,:])\n",
    "            except ValueError:\n",
    "                vs = False\n",
    "            if vs:\n",
    "                mat = mat[:, sel.variances_>variant_thres]\n",
    "                if mat.shape[0] > 0:\n",
    "                    amr_mat = np.append(amr_mat, mat, axis=1)\n",
    "                    bool_vec = sel.variances_>variant_thres\n",
    "                    positional_index += [computed_gene_cluster[idx] +'@'+ str(i) for i in range(len(bool_vec)) if bool_vec[i]]"
   ]
  },
  {
   "cell_type": "code",
   "execution_count": 57,
   "id": "2397887c-f6e9-4b2c-b294-828f9293b50a",
   "metadata": {},
   "outputs": [
    {
     "data": {
      "text/plain": [
       "((1248, 556544), 556544)"
      ]
     },
     "execution_count": 57,
     "metadata": {},
     "output_type": "execute_result"
    }
   ],
   "source": [
    "amr_mat.shape, len(positional_index)"
   ]
  },
  {
   "cell_type": "code",
   "execution_count": 58,
   "id": "6223c026-96f9-4c83-b0ef-9bda42634dd0",
   "metadata": {},
   "outputs": [],
   "source": [
    "snpmatrixdbdf = pd.DataFrame(amr_mat, columns = positional_index)"
   ]
  },
  {
   "cell_type": "code",
   "execution_count": 59,
   "id": "35e53302-ee0d-4b64-8ac5-3ce792ed7093",
   "metadata": {},
   "outputs": [
    {
     "data": {
      "text/html": [
       "<div>\n",
       "<style scoped>\n",
       "    .dataframe tbody tr th:only-of-type {\n",
       "        vertical-align: middle;\n",
       "    }\n",
       "\n",
       "    .dataframe tbody tr th {\n",
       "        vertical-align: top;\n",
       "    }\n",
       "\n",
       "    .dataframe thead th {\n",
       "        text-align: right;\n",
       "    }\n",
       "</style>\n",
       "<table border=\"1\" class=\"dataframe\">\n",
       "  <thead>\n",
       "    <tr style=\"text-align: right;\">\n",
       "      <th></th>\n",
       "      <th>groups_0@0</th>\n",
       "      <th>groups_0@1</th>\n",
       "      <th>groups_0@2</th>\n",
       "      <th>groups_0@3</th>\n",
       "      <th>groups_0@4</th>\n",
       "      <th>groups_0@5</th>\n",
       "      <th>groups_0@6</th>\n",
       "      <th>groups_0@7</th>\n",
       "      <th>groups_0@8</th>\n",
       "      <th>groups_0@9</th>\n",
       "      <th>...</th>\n",
       "      <th>valS@901</th>\n",
       "      <th>valS@911</th>\n",
       "      <th>valS@916</th>\n",
       "      <th>valS@917</th>\n",
       "      <th>valS@925</th>\n",
       "      <th>valS@926</th>\n",
       "      <th>valS@931</th>\n",
       "      <th>valS@942</th>\n",
       "      <th>valS@946</th>\n",
       "      <th>valS@947</th>\n",
       "    </tr>\n",
       "  </thead>\n",
       "  <tbody>\n",
       "    <tr>\n",
       "      <th>0</th>\n",
       "      <td>18.0</td>\n",
       "      <td>19.0</td>\n",
       "      <td>9.0</td>\n",
       "      <td>18.0</td>\n",
       "      <td>18.0</td>\n",
       "      <td>2.0</td>\n",
       "      <td>7.0</td>\n",
       "      <td>2.0</td>\n",
       "      <td>2.0</td>\n",
       "      <td>10.0</td>\n",
       "      <td>...</td>\n",
       "      <td>7.0</td>\n",
       "      <td>2.0</td>\n",
       "      <td>19.0</td>\n",
       "      <td>2.0</td>\n",
       "      <td>2.0</td>\n",
       "      <td>10.0</td>\n",
       "      <td>11.0</td>\n",
       "      <td>9.0</td>\n",
       "      <td>2.0</td>\n",
       "      <td>19.0</td>\n",
       "    </tr>\n",
       "    <tr>\n",
       "      <th>1</th>\n",
       "      <td>0.0</td>\n",
       "      <td>0.0</td>\n",
       "      <td>0.0</td>\n",
       "      <td>0.0</td>\n",
       "      <td>0.0</td>\n",
       "      <td>0.0</td>\n",
       "      <td>0.0</td>\n",
       "      <td>0.0</td>\n",
       "      <td>0.0</td>\n",
       "      <td>0.0</td>\n",
       "      <td>...</td>\n",
       "      <td>7.0</td>\n",
       "      <td>2.0</td>\n",
       "      <td>19.0</td>\n",
       "      <td>2.0</td>\n",
       "      <td>2.0</td>\n",
       "      <td>10.0</td>\n",
       "      <td>11.0</td>\n",
       "      <td>9.0</td>\n",
       "      <td>2.0</td>\n",
       "      <td>19.0</td>\n",
       "    </tr>\n",
       "  </tbody>\n",
       "</table>\n",
       "<p>2 rows × 556544 columns</p>\n",
       "</div>"
      ],
      "text/plain": [
       "   groups_0@0  groups_0@1  groups_0@2  groups_0@3  groups_0@4  groups_0@5  \\\n",
       "0        18.0        19.0         9.0        18.0        18.0         2.0   \n",
       "1         0.0         0.0         0.0         0.0         0.0         0.0   \n",
       "\n",
       "   groups_0@6  groups_0@7  groups_0@8  groups_0@9  ...  valS@901  valS@911  \\\n",
       "0         7.0         2.0         2.0        10.0  ...       7.0       2.0   \n",
       "1         0.0         0.0         0.0         0.0  ...       7.0       2.0   \n",
       "\n",
       "   valS@916  valS@917  valS@925  valS@926  valS@931  valS@942  valS@946  \\\n",
       "0      19.0       2.0       2.0      10.0      11.0       9.0       2.0   \n",
       "1      19.0       2.0       2.0      10.0      11.0       9.0       2.0   \n",
       "\n",
       "   valS@947  \n",
       "0      19.0  \n",
       "1      19.0  \n",
       "\n",
       "[2 rows x 556544 columns]"
      ]
     },
     "execution_count": 59,
     "metadata": {},
     "output_type": "execute_result"
    }
   ],
   "source": [
    "snpmatrixdbdf.head(2)"
   ]
  },
  {
   "cell_type": "code",
   "execution_count": 60,
   "id": "b8d1c93b-6026-4f99-be8c-040e614e952c",
   "metadata": {},
   "outputs": [],
   "source": [
    "# metadata_panta = pd.read_csv(\"data/Kametadata_final.csv\")\n",
    "metadata_panta = pd.read_csv(\"data/metadata/metadata_final.csv\")"
   ]
  },
  {
   "cell_type": "code",
   "execution_count": 61,
   "id": "4fb0ddce-1e6e-4a34-8f58-cb51c74c8b6a",
   "metadata": {},
   "outputs": [
    {
     "data": {
      "text/html": [
       "<div>\n",
       "<style scoped>\n",
       "    .dataframe tbody tr th:only-of-type {\n",
       "        vertical-align: middle;\n",
       "    }\n",
       "\n",
       "    .dataframe tbody tr th {\n",
       "        vertical-align: top;\n",
       "    }\n",
       "\n",
       "    .dataframe thead th {\n",
       "        text-align: right;\n",
       "    }\n",
       "</style>\n",
       "<table border=\"1\" class=\"dataframe\">\n",
       "  <thead>\n",
       "    <tr style=\"text-align: right;\">\n",
       "      <th></th>\n",
       "      <th>Isolate</th>\n",
       "      <th>Year</th>\n",
       "      <th>CTZ</th>\n",
       "      <th>CTX</th>\n",
       "      <th>AMP</th>\n",
       "      <th>AMX</th>\n",
       "      <th>AMC</th>\n",
       "      <th>TZP</th>\n",
       "      <th>CXM</th>\n",
       "      <th>CET</th>\n",
       "      <th>GEN</th>\n",
       "      <th>TBM</th>\n",
       "      <th>TMP</th>\n",
       "      <th>CIP</th>\n",
       "    </tr>\n",
       "  </thead>\n",
       "  <tbody>\n",
       "    <tr>\n",
       "      <th>0</th>\n",
       "      <td>11658_4#1</td>\n",
       "      <td>2006.0</td>\n",
       "      <td>S</td>\n",
       "      <td>S</td>\n",
       "      <td>S</td>\n",
       "      <td>NaN</td>\n",
       "      <td>S</td>\n",
       "      <td>S</td>\n",
       "      <td>R</td>\n",
       "      <td>S</td>\n",
       "      <td>S</td>\n",
       "      <td>S</td>\n",
       "      <td>S</td>\n",
       "      <td>S</td>\n",
       "    </tr>\n",
       "    <tr>\n",
       "      <th>1</th>\n",
       "      <td>11657_5#1</td>\n",
       "      <td>2006.0</td>\n",
       "      <td>S</td>\n",
       "      <td>S</td>\n",
       "      <td>R</td>\n",
       "      <td>NaN</td>\n",
       "      <td>R</td>\n",
       "      <td>S</td>\n",
       "      <td>S</td>\n",
       "      <td>S</td>\n",
       "      <td>S</td>\n",
       "      <td>S</td>\n",
       "      <td>R</td>\n",
       "      <td>R</td>\n",
       "    </tr>\n",
       "  </tbody>\n",
       "</table>\n",
       "</div>"
      ],
      "text/plain": [
       "     Isolate    Year CTZ CTX AMP  AMX AMC TZP CXM CET GEN TBM TMP CIP\n",
       "0  11658_4#1  2006.0   S   S   S  NaN   S   S   R   S   S   S   S   S\n",
       "1  11657_5#1  2006.0   S   S   R  NaN   R   S   S   S   S   S   R   R"
      ]
     },
     "execution_count": 61,
     "metadata": {},
     "output_type": "execute_result"
    }
   ],
   "source": [
    "metadata_panta.head(2)"
   ]
  },
  {
   "cell_type": "code",
   "execution_count": 62,
   "id": "ad6dd5d5-9ec6-4b74-a8d5-a37e2d68b98b",
   "metadata": {},
   "outputs": [],
   "source": [
    "samples_list = list(sample2integerindexdb.keys())"
   ]
  },
  {
   "cell_type": "code",
   "execution_count": 63,
   "id": "7e6d70e4-01d6-4b64-be1c-29d106339756",
   "metadata": {},
   "outputs": [],
   "source": [
    "sample_isolate = pd.read_csv('data/metadata/sample_isolate.csv')\n",
    "sample_isolate.head(2)\n",
    "sample2isolate = {}\n",
    "for idx in range(len(sample_isolate.index)):\n",
    "    sample2isolate[sample_isolate.iloc[idx,0]+'.contig'] = sample_isolate.iloc[idx,1]"
   ]
  },
  {
   "cell_type": "code",
   "execution_count": 64,
   "id": "68c5978d-642e-4ec4-be21-131825dc6bf3",
   "metadata": {},
   "outputs": [],
   "source": [
    "# sample2isolate"
   ]
  },
  {
   "cell_type": "code",
   "execution_count": 65,
   "id": "9b76f7a8-b969-4d20-9100-57f922db8bd7",
   "metadata": {},
   "outputs": [],
   "source": [
    "isolate_list = [sample2isolate[key] for key in samples_list]"
   ]
  },
  {
   "cell_type": "code",
   "execution_count": 66,
   "id": "f51d0265-6f3b-4a08-8b5b-a2e594dc0e05",
   "metadata": {},
   "outputs": [],
   "source": [
    "metadata_pantanew = metadata_panta.loc[metadata_panta['Isolate'].isin(isolate_list)]"
   ]
  },
  {
   "cell_type": "code",
   "execution_count": 67,
   "id": "c4eb340d-8064-4974-a4c3-3082cd50a546",
   "metadata": {},
   "outputs": [],
   "source": [
    "amr_mat = snpmatrixdbdf.values"
   ]
  },
  {
   "cell_type": "code",
   "execution_count": 75,
   "id": "d3063523-39d9-4106-9070-d096b09a1f1a",
   "metadata": {},
   "outputs": [
    {
     "name": "stdout",
     "output_type": "stream",
     "text": [
      "CTZ\n",
      "CTX\n"
     ]
    }
   ],
   "source": [
    "# Run feature selection\n",
    "top_features = []\n",
    "for idx in range(2, metadata_pantanew.shape[1]):\n",
    "# for idx in range(2, 4):\n",
    "    y_class = metadata_pantanew.iloc[:,idx].values\n",
    "    print(metadata_pantanew.columns[idx])\n",
    "    y, nonenan_index = binary_label(y_class) # v6\n",
    "    pa_matrix_new = amr_mat[nonenan_index, ]\n",
    "    if pa_matrix_new.shape[0] > 0:\n",
    "        y_new = y[nonenan_index].astype(int)\n",
    "        scores, pvalue = chi2(pa_matrix_new, y_new)\n",
    "        # mutual_mat.append(pvalue)\n",
    "        top_features += list(np.argsort(scores)[::-1][:2000])\n",
    "top_features.sort()\n",
    "top_features = list(set(top_features))"
   ]
  },
  {
   "cell_type": "code",
   "execution_count": 80,
   "id": "becfc214-acb5-41db-b816-967fac4b03db",
   "metadata": {},
   "outputs": [
    {
     "data": {
      "text/plain": [
       "(1248, 2450)"
      ]
     },
     "execution_count": 80,
     "metadata": {},
     "output_type": "execute_result"
    }
   ],
   "source": [
    "kmer_matrix_VT_top_features = amr_mat[:,top_features]\n",
    "kmer_matrix_VT_top_features.shape"
   ]
  },
  {
   "cell_type": "code",
   "execution_count": 81,
   "id": "cdcbb59b-7bcb-42bb-8d13-1a765b29abac",
   "metadata": {},
   "outputs": [],
   "source": [
    "snp_features_name = snpmatrixdbdf.columns[top_features]"
   ]
  },
  {
   "cell_type": "code",
   "execution_count": 82,
   "id": "49a3aff1-7420-4322-8130-a7d76dae675a",
   "metadata": {},
   "outputs": [],
   "source": [
    "snpmatrixdbfinaldf = snpmatrixdbdf.iloc[:,top_features]"
   ]
  },
  {
   "cell_type": "markdown",
   "id": "ad155485-ac77-4273-b5f4-991c3836f64e",
   "metadata": {},
   "source": [
    "## Compute label encoder for core gene clusters (test)"
   ]
  },
  {
   "cell_type": "code",
   "execution_count": 83,
   "id": "fb80348c-1ebd-4644-a387-c0dfc89aa974",
   "metadata": {},
   "outputs": [],
   "source": [
    "computed_gene_cluster = [clustersdb2clustersdict[cluster] for cluster in core_gene_clusterdb];"
   ]
  },
  {
   "cell_type": "code",
   "execution_count": 84,
   "id": "9d0c51d3-5bd9-4304-91fe-af2c73c5ffc8",
   "metadata": {},
   "outputs": [
    {
     "data": {
      "text/plain": [
       "LabelEncoder()"
      ]
     },
     "execution_count": 84,
     "metadata": {},
     "output_type": "execute_result"
    }
   ],
   "source": [
    "codes = ['A', 'C', 'D', 'E', 'F', 'G', 'H', 'I', 'K', 'L', 'M', 'N', 'P', 'Q', 'R', 'S', 'T', 'V', 'W', 'Y', '-', 'X']\n",
    "le = preprocessing.LabelEncoder()\n",
    "le.fit(codes)"
   ]
  },
  {
   "cell_type": "code",
   "execution_count": 85,
   "id": "dfb991cc-0998-489c-b2a7-f6b666250ee1",
   "metadata": {},
   "outputs": [],
   "source": [
    "snp_features_name_unique = np.unique([key.split('@')[0] for key in snp_features_name])\n",
    "snp_features_name_test_unique =  [clustersdb2clustersdict[cluster] for cluster in snp_features_name_unique];"
   ]
  },
  {
   "cell_type": "code",
   "execution_count": 86,
   "id": "d00e3817-f473-4ac7-be59-d977c49bae5c",
   "metadata": {},
   "outputs": [],
   "source": [
    "# amr_mat = None;\n",
    "amr_mat = np.empty(shape=[n_samples, 0])\n",
    "positional_index = [];\n",
    "# for idx in range(100):\n",
    "for idx in range(len(computed_gene_cluster)):\n",
    "    if computed_gene_cluster[idx] in snp_features_name_test_unique:\n",
    "        alignment_dir = pantaout_dir + 'clusters/' + computed_gene_cluster[idx] +'/'+computed_gene_cluster[idx]+'.faa.aln.gz'\n",
    "        mat = None; index = 0; index_set = []; selected_location = []\n",
    "        with gzip.open(alignment_dir, \"rt\") as handle:\n",
    "            for record in SeqIO.parse(handle, \"fasta\"):\n",
    "                name, sequence = record.id, str(record.seq)\n",
    "                sample_id = name.split('-')[0]\n",
    "                if index == 0:\n",
    "                    mat = np.zeros((n_samples, len(sequence)))\n",
    "                index += 1\n",
    "                mat[sample2integerindex[sample_id],:] = 1 + le.transform([*sequence])\n",
    "                index_set.append(sample2integerindex[sample_id])\n",
    "                if name == cluster2representativegenedict[computed_gene_cluster[idx]]:\n",
    "                    # print(idx, sequence)\n",
    "                    selected_location = [pos for pos, char in enumerate(sequence) if char != '-']\n",
    "                    # print(selected_location)\n",
    "        mat = mat[:, selected_location] #only select the position where representative sequence is not \"-\"\n",
    "        positional_index += [core_gene_clusterdb[idx] +'@'+ str(i) for i in range(mat.shape[1])] # use the same name as database\n",
    "        # if idx==0:\n",
    "        #     amr_mat = mat\n",
    "        # else:\n",
    "        amr_mat = np.append(amr_mat, mat, axis=1)"
   ]
  },
  {
   "cell_type": "code",
   "execution_count": 87,
   "id": "7256854d-f697-4cfe-934e-734132d8977f",
   "metadata": {},
   "outputs": [
    {
     "data": {
      "text/plain": [
       "((1653, 219021), 219021)"
      ]
     },
     "execution_count": 87,
     "metadata": {},
     "output_type": "execute_result"
    }
   ],
   "source": [
    "amr_mat.shape, len(positional_index)"
   ]
  },
  {
   "cell_type": "code",
   "execution_count": 88,
   "id": "600e1cd8-8365-4317-a19d-9223813e22d9",
   "metadata": {},
   "outputs": [],
   "source": [
    "snpmatrixtestdf = pd.DataFrame(amr_mat, columns = positional_index)"
   ]
  },
  {
   "cell_type": "code",
   "execution_count": 89,
   "id": "24b220f3-532e-4bc6-a067-e46eddc800ba",
   "metadata": {},
   "outputs": [],
   "source": [
    "snpmatrixtestfinaldf = snpmatrixtestdf[snp_features_name]"
   ]
  },
  {
   "cell_type": "code",
   "execution_count": 99,
   "id": "f2d5a496-0f48-414c-af8c-59601e8d5970",
   "metadata": {},
   "outputs": [],
   "source": [
    "## Run feature selection for AMR Kmer and PA matrix"
   ]
  },
  {
   "cell_type": "code",
   "execution_count": 105,
   "id": "d4e78198-1025-4c64-ad4f-a76a2980fb27",
   "metadata": {},
   "outputs": [],
   "source": [
    "# Run feature selection (AMR Kmer)\n",
    "amrkmer_top_features = []\n",
    "for idx in range(2, metadata_pantanew.shape[1]):\n",
    "# for idx in range(2, 4):\n",
    "    y_class = metadata_pantanew.iloc[:,idx].values\n",
    "    # print(metadata_pantanew.columns[idx])\n",
    "    y, nonenan_index = binary_label(y_class) # v6\n",
    "    pa_matrix_new = kmer_matrixdbdf.iloc[nonenan_index, ]\n",
    "    if pa_matrix_new.shape[0] > 0:\n",
    "        y_new = y[nonenan_index].astype(int)\n",
    "        scores, pvalue = chi2(pa_matrix_new, y_new)\n",
    "        # mutual_mat.append(pvalue)\n",
    "        amrkmer_top_features += list(np.argsort(scores)[::-1][:2000])\n",
    "amrkmer_top_features.sort()\n",
    "amrkmer_top_features = list(set(amrkmer_top_features))\n",
    "kmer_matrixdbdf = kmer_matrixdbdf.iloc[:,amrkmer_top_features]\n",
    "kmer_matrixdftest = kmer_matrixdftest.iloc[:,amrkmer_top_features]"
   ]
  },
  {
   "cell_type": "code",
   "execution_count": 110,
   "id": "2fac2245-0b56-47dd-ba4a-7aee4024801e",
   "metadata": {},
   "outputs": [],
   "source": [
    "# Run feature selection (PA matrix)\n",
    "pamatrix_top_features = []\n",
    "for idx in range(2, metadata_pantanew.shape[1]):\n",
    "# for idx in range(2, 4):\n",
    "    y_class = metadata_pantanew.iloc[:,idx].values\n",
    "    y, nonenan_index = binary_label(y_class) # v6\n",
    "    pa_matrix_new = pa_matrixdb.iloc[nonenan_index, ]\n",
    "    if pa_matrix_new.shape[0] > 0:\n",
    "        y_new = y[nonenan_index].astype(int)\n",
    "        scores, pvalue = chi2(pa_matrix_new, y_new)\n",
    "        # mutual_mat.append(pvalue)\n",
    "        pamatrix_top_features += list(np.argsort(scores)[::-1][:2000])\n",
    "pamatrix_top_features.sort()\n",
    "pamatrix_top_features = list(set(pamatrix_top_features))\n",
    "pa_matrixdb = pa_matrixdb.iloc[:,pamatrix_top_features]\n",
    "pa_matrixnew = pa_matrixnew.iloc[:,pamatrix_top_features]"
   ]
  },
  {
   "cell_type": "markdown",
   "id": "221ef1a2-176a-4476-8a81-09c64988221f",
   "metadata": {},
   "source": [
    "## Export data"
   ]
  },
  {
   "cell_type": "code",
   "execution_count": 119,
   "id": "516c901a-2ad0-41aa-920e-bec2b72d4ba6",
   "metadata": {},
   "outputs": [],
   "source": [
    "# PA matrix\n",
    "pa_matrixdb.to_pickle(pantaout_dir + 'PAmatrixTrain.pkl')\n",
    "pa_matrixnew[~pa_matrixnew.index.isin(pa_matrixdb.index)].to_pickle(pantaout_dir + 'PAmatrixTest.pkl')\n",
    "# AMR Kmer\n",
    "kmer_matrixdbdf.index = pa_matrixdb.index\n",
    "kmer_matrixdftest.index = pa_matrixnew.index\n",
    "kmer_matrixdbdf.to_pickle(pantaout_dir + 'AMRKmerTrain.pkl')\n",
    "kmer_matrixdftest[~kmer_matrixdftest.index.isin(kmer_matrixdbdf.index)].to_pickle(pantaout_dir + 'AMRKmerTest.pkl')\n",
    "# SNPs\n",
    "snpmatrixdbfinaldf.index = pa_matrixdb.index\n",
    "snpmatrixtestfinaldf.index = pa_matrixnew.index\n",
    "snpmatrixdbfinaldf.to_pickle(pantaout_dir + 'SNPmatrixTrain.pkl')\n",
    "snpmatrixtestfinaldf[~snpmatrixtestfinaldf.index.isin(snpmatrixdbfinaldf.index)].to_pickle(pantaout_dir + 'SNPmatrixTest.pkl')"
   ]
  }
 ],
 "metadata": {
  "kernelspec": {
   "display_name": "Python py36",
   "language": "python",
   "name": "py36"
  },
  "language_info": {
   "codemirror_mode": {
    "name": "ipython",
    "version": 3
   },
   "file_extension": ".py",
   "mimetype": "text/x-python",
   "name": "python",
   "nbconvert_exporter": "python",
   "pygments_lexer": "ipython3",
   "version": "3.6.10"
  }
 },
 "nbformat": 4,
 "nbformat_minor": 5
}
