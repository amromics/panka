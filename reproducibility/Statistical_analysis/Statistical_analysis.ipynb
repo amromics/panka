{
 "cells": [
  {
   "cell_type": "code",
   "execution_count": 1,
   "id": "899cfa99-19f9-47f1-b2a5-102b9872a037",
   "metadata": {},
   "outputs": [],
   "source": [
    "import pandas as pd\n",
    "import numpy as np"
   ]
  },
  {
   "cell_type": "code",
   "execution_count": 2,
   "id": "5320ed0c-4949-4aa7-81d3-2b8a7df84ce7",
   "metadata": {},
   "outputs": [],
   "source": [
    "data = pd.read_csv('all_results_Ecoli_ksize.csv')"
   ]
  },
  {
   "cell_type": "code",
   "execution_count": 3,
   "id": "31df5f7d-f61e-4617-8da0-9337ad3ad7a7",
   "metadata": {},
   "outputs": [],
   "source": [
    "panka_K = data.loc[data.ksize > 0]\n",
    "panka_idx = [i for i in range(len(panka_K.index)) if panka_K.iloc[i,0][0:3]=='Pan']\n",
    "pankaAll = panka_K.iloc[panka_idx,:]\n",
    "pankaamr_idx = [i for i in range(len(panka_K.index)) if panka_K.iloc[i,0][0:3]!='Pan']\n",
    "pankaAMR = panka_K.iloc[pankaamr_idx,:]"
   ]
  },
  {
   "cell_type": "code",
   "execution_count": 4,
   "id": "13ae0b1b-d332-4339-8a9b-4852251cd32c",
   "metadata": {},
   "outputs": [
    {
     "data": {
      "text/html": [
       "<div>\n",
       "<style scoped>\n",
       "    .dataframe tbody tr th:only-of-type {\n",
       "        vertical-align: middle;\n",
       "    }\n",
       "\n",
       "    .dataframe tbody tr th {\n",
       "        vertical-align: top;\n",
       "    }\n",
       "\n",
       "    .dataframe thead th {\n",
       "        text-align: right;\n",
       "    }\n",
       "</style>\n",
       "<table border=\"1\" class=\"dataframe\">\n",
       "  <thead>\n",
       "    <tr style=\"text-align: right;\">\n",
       "      <th></th>\n",
       "      <th>method</th>\n",
       "      <th>f1</th>\n",
       "      <th>precision</th>\n",
       "      <th>recall</th>\n",
       "      <th>parameter</th>\n",
       "      <th>antibiotic</th>\n",
       "      <th>ksize</th>\n",
       "    </tr>\n",
       "  </thead>\n",
       "  <tbody>\n",
       "    <tr>\n",
       "      <th>1</th>\n",
       "      <td>PanKA k=10</td>\n",
       "      <td>0.663158</td>\n",
       "      <td>0.700000</td>\n",
       "      <td>0.63</td>\n",
       "      <td>[{'max_bin': 2, 'max_depth': 7, 'min_child_sam...</td>\n",
       "      <td>AMC</td>\n",
       "      <td>10</td>\n",
       "    </tr>\n",
       "    <tr>\n",
       "      <th>7</th>\n",
       "      <td>PanKA (AMR Kmer)</td>\n",
       "      <td>0.659794</td>\n",
       "      <td>0.680851</td>\n",
       "      <td>0.64</td>\n",
       "      <td>[{'max_bin': 2, 'max_depth': 5, 'min_child_sam...</td>\n",
       "      <td>AMC</td>\n",
       "      <td>10</td>\n",
       "    </tr>\n",
       "  </tbody>\n",
       "</table>\n",
       "</div>"
      ],
      "text/plain": [
       "             method        f1  precision  recall  \\\n",
       "1        PanKA k=10  0.663158   0.700000    0.63   \n",
       "7  PanKA (AMR Kmer)  0.659794   0.680851    0.64   \n",
       "\n",
       "                                           parameter antibiotic  ksize  \n",
       "1  [{'max_bin': 2, 'max_depth': 7, 'min_child_sam...        AMC     10  \n",
       "7  [{'max_bin': 2, 'max_depth': 5, 'min_child_sam...        AMC     10  "
      ]
     },
     "execution_count": 4,
     "metadata": {},
     "output_type": "execute_result"
    }
   ],
   "source": [
    "pankaAll.head(2)"
   ]
  },
  {
   "cell_type": "code",
   "execution_count": 5,
   "id": "c566902c-0345-4cb6-8b03-8b1e9ee779f7",
   "metadata": {},
   "outputs": [
    {
     "data": {
      "text/plain": [
       "0.0057711270888772155"
      ]
     },
     "execution_count": 5,
     "metadata": {},
     "output_type": "execute_result"
    }
   ],
   "source": [
    "pankaAll.groupby('ksize')[['f1', 'precision','recall']].mean()['recall'].std()"
   ]
  },
  {
   "cell_type": "code",
   "execution_count": 6,
   "id": "e8c69b06-eed2-4173-800a-629df0390d3b",
   "metadata": {},
   "outputs": [],
   "source": [
    "panka_K = data.loc[data.ksize > 5]\n",
    "panka_idx = [i for i in range(len(panka_K.index)) if panka_K.iloc[i,0][0:3]=='Pan']\n",
    "pankaAll = panka_K.iloc[panka_idx,:]\n",
    "pankaamr_idx = [i for i in range(len(panka_K.index)) if panka_K.iloc[i,0][0:3]!='Pan']\n",
    "pankaAMR = panka_K.iloc[pankaamr_idx,:]"
   ]
  },
  {
   "cell_type": "code",
   "execution_count": 7,
   "id": "3c13e6da-428b-4e32-9b20-08c89b12791b",
   "metadata": {},
   "outputs": [],
   "source": [
    "data_compare = data[data['ksize'].isin([0, 10])]"
   ]
  },
  {
   "cell_type": "code",
   "execution_count": 8,
   "id": "a6579cd4-f9b8-4345-b107-c766bd982965",
   "metadata": {},
   "outputs": [
    {
     "data": {
      "text/html": [
       "<div>\n",
       "<style scoped>\n",
       "    .dataframe tbody tr th:only-of-type {\n",
       "        vertical-align: middle;\n",
       "    }\n",
       "\n",
       "    .dataframe tbody tr th {\n",
       "        vertical-align: top;\n",
       "    }\n",
       "\n",
       "    .dataframe thead th {\n",
       "        text-align: right;\n",
       "    }\n",
       "</style>\n",
       "<table border=\"1\" class=\"dataframe\">\n",
       "  <thead>\n",
       "    <tr style=\"text-align: right;\">\n",
       "      <th></th>\n",
       "      <th>f1</th>\n",
       "      <th>precision</th>\n",
       "      <th>recall</th>\n",
       "    </tr>\n",
       "    <tr>\n",
       "      <th>method</th>\n",
       "      <th></th>\n",
       "      <th></th>\n",
       "      <th></th>\n",
       "    </tr>\n",
       "  </thead>\n",
       "  <tbody>\n",
       "    <tr>\n",
       "      <th>AMR AVs + PA matrix + Pancore</th>\n",
       "      <td>0.877277</td>\n",
       "      <td>0.917710</td>\n",
       "      <td>0.846770</td>\n",
       "    </tr>\n",
       "    <tr>\n",
       "      <th>KmerDNA</th>\n",
       "      <td>0.755388</td>\n",
       "      <td>0.787097</td>\n",
       "      <td>0.769513</td>\n",
       "    </tr>\n",
       "    <tr>\n",
       "      <th>KmerProtein</th>\n",
       "      <td>0.832323</td>\n",
       "      <td>0.865771</td>\n",
       "      <td>0.809138</td>\n",
       "    </tr>\n",
       "    <tr>\n",
       "      <th>PanKA (AMR AVs)</th>\n",
       "      <td>0.867885</td>\n",
       "      <td>0.907290</td>\n",
       "      <td>0.840359</td>\n",
       "    </tr>\n",
       "    <tr>\n",
       "      <th>PanKA (AMR Kmer)</th>\n",
       "      <td>0.872568</td>\n",
       "      <td>0.903373</td>\n",
       "      <td>0.850364</td>\n",
       "    </tr>\n",
       "    <tr>\n",
       "      <th>PanKA k=10</th>\n",
       "      <td>0.893819</td>\n",
       "      <td>0.923107</td>\n",
       "      <td>0.871844</td>\n",
       "    </tr>\n",
       "    <tr>\n",
       "      <th>PanPred</th>\n",
       "      <td>0.862465</td>\n",
       "      <td>0.898298</td>\n",
       "      <td>0.834734</td>\n",
       "    </tr>\n",
       "    <tr>\n",
       "      <th>PanPred GBDT</th>\n",
       "      <td>0.856720</td>\n",
       "      <td>0.893298</td>\n",
       "      <td>0.826479</td>\n",
       "    </tr>\n",
       "  </tbody>\n",
       "</table>\n",
       "</div>"
      ],
      "text/plain": [
       "                                     f1  precision    recall\n",
       "method                                                      \n",
       "AMR AVs + PA matrix + Pancore  0.877277   0.917710  0.846770\n",
       "KmerDNA                        0.755388   0.787097  0.769513\n",
       "KmerProtein                    0.832323   0.865771  0.809138\n",
       "PanKA (AMR AVs)                0.867885   0.907290  0.840359\n",
       "PanKA (AMR Kmer)               0.872568   0.903373  0.850364\n",
       "PanKA k=10                     0.893819   0.923107  0.871844\n",
       "PanPred                        0.862465   0.898298  0.834734\n",
       "PanPred GBDT                   0.856720   0.893298  0.826479"
      ]
     },
     "execution_count": 8,
     "metadata": {},
     "output_type": "execute_result"
    }
   ],
   "source": [
    "data_compare.groupby('method')[['f1', 'precision','recall']].mean()"
   ]
  },
  {
   "cell_type": "code",
   "execution_count": 9,
   "id": "5bae6c7d-7847-42b8-a79d-c71df64649d9",
   "metadata": {},
   "outputs": [
    {
     "data": {
      "text/plain": [
       "WilcoxonResult(statistic=2.0, pvalue=0.0029296875)"
      ]
     },
     "execution_count": 9,
     "metadata": {},
     "output_type": "execute_result"
    }
   ],
   "source": [
    "# PanKA vs PanPred in F1 score\n",
    "import scipy.stats as stats\n",
    "stats.wilcoxon(data_compare.loc[data_compare.method=='PanKA k=10']['f1'], data_compare.loc[data_compare.method=='PanPred']['f1'])"
   ]
  },
  {
   "cell_type": "code",
   "execution_count": 10,
   "id": "669c0f7b-a170-44cb-bd62-6ede51be4327",
   "metadata": {},
   "outputs": [
    {
     "name": "stderr",
     "output_type": "stream",
     "text": [
      "/home/vanhoan310/miniconda3/envs/py38/lib/python3.8/site-packages/scipy/stats/_morestats.py:3145: UserWarning: Exact p-value calculation does not work if there are ties. Switching to normal approximation.\n",
      "  warnings.warn(\"Exact p-value calculation does not work if there are \"\n"
     ]
    },
    {
     "data": {
      "text/plain": [
       "WilcoxonResult(statistic=0.0, pvalue=0.005033508200606249)"
      ]
     },
     "execution_count": 10,
     "metadata": {},
     "output_type": "execute_result"
    }
   ],
   "source": [
    "# PanKA vs PanPred in recall\n",
    "import scipy.stats as stats\n",
    "stats.wilcoxon(data_compare.loc[data_compare.method=='PanKA k=10']['recall'], data_compare.loc[data_compare.method=='PanPred']['recall'])"
   ]
  },
  {
   "cell_type": "code",
   "execution_count": 11,
   "id": "efd37faa-75c9-4b80-9e73-994af347466c",
   "metadata": {},
   "outputs": [
    {
     "name": "stderr",
     "output_type": "stream",
     "text": [
      "/home/vanhoan310/miniconda3/envs/py38/lib/python3.8/site-packages/scipy/stats/_morestats.py:3159: UserWarning: Sample size too small for normal approximation.\n",
      "  warnings.warn(\"Sample size too small for normal approximation.\")\n"
     ]
    },
    {
     "data": {
      "text/plain": [
       "WilcoxonResult(statistic=4.0, pvalue=0.0499499764547464)"
      ]
     },
     "execution_count": 11,
     "metadata": {},
     "output_type": "execute_result"
    }
   ],
   "source": [
    "# PanKA vs PanKA (AMR AVs + PA matrix + PanCore)\n",
    "import scipy.stats as stats\n",
    "stats.wilcoxon(data_compare.loc[data_compare.method=='PanKA k=10']['f1'], data_compare.loc[data_compare.method=='AMR AVs + PA matrix + Pancore']['f1'])"
   ]
  },
  {
   "cell_type": "code",
   "execution_count": null,
   "id": "4bba8817-44ab-4e57-955b-1501607cfae5",
   "metadata": {},
   "outputs": [],
   "source": []
  }
 ],
 "metadata": {
  "kernelspec": {
   "display_name": "Python py38",
   "language": "python",
   "name": "py38"
  },
  "language_info": {
   "codemirror_mode": {
    "name": "ipython",
    "version": 3
   },
   "file_extension": ".py",
   "mimetype": "text/x-python",
   "name": "python",
   "nbconvert_exporter": "python",
   "pygments_lexer": "ipython3",
   "version": "3.8.5"
  }
 },
 "nbformat": 4,
 "nbformat_minor": 5
}
