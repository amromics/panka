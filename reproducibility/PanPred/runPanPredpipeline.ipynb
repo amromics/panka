{
 "cells": [
  {
   "cell_type": "markdown",
   "id": "c876eef5-adc7-4545-a130-b342fe17388d",
   "metadata": {},
   "source": [
    "## 1. Installation"
   ]
  },
  {
   "cell_type": "markdown",
   "id": "e0da057b-a9f3-4731-afbf-652c00158f2f",
   "metadata": {},
   "source": [
    "#### https://github.com/DaneshMoradigaravand/PanPred"
   ]
  },
  {
   "cell_type": "markdown",
   "id": "0e7c6829-84c1-4cd5-aef1-8e4558bbe77c",
   "metadata": {},
   "source": [
    "## 2. Train and test PanPred"
   ]
  },
  {
   "cell_type": "markdown",
   "id": "529880b5-aabc-45e9-9737-5ec77a22e572",
   "metadata": {},
   "source": [
    "### 2.1 Data: E. coli or K. p.\n",
    "### 2.2 Train and test: When finish PanPred, combining all PanPred features into a single file and run GradientBossting or lightGBM"
   ]
  },
  {
   "cell_type": "markdown",
   "id": "134c38fe-feb3-4225-a0bf-e038d210a911",
   "metadata": {},
   "source": [
    "#### The traing and testing of PanPred is similar to PanKA and given in the same notebook: ...."
   ]
  },
  {
   "cell_type": "code",
   "execution_count": null,
   "id": "0d0971bc-3306-40ca-bb26-bfaa7bffb690",
   "metadata": {},
   "outputs": [],
   "source": []
  }
 ],
 "metadata": {
  "kernelspec": {
   "display_name": "Python py36",
   "language": "python",
   "name": "py36"
  },
  "language_info": {
   "codemirror_mode": {
    "name": "ipython",
    "version": 3
   },
   "file_extension": ".py",
   "mimetype": "text/x-python",
   "name": "python",
   "nbconvert_exporter": "python",
   "pygments_lexer": "ipython3",
   "version": "3.6.10"
  }
 },
 "nbformat": 4,
 "nbformat_minor": 5
}
