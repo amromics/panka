{
 "cells": [
  {
   "cell_type": "markdown",
   "id": "9a8d9559-0fb2-4f4b-89e3-a63ffe42b416",
   "metadata": {},
   "source": [
    "### Download sequence data from the metadata in the directory data/genomeID_annotation"
   ]
  },
  {
   "cell_type": "code",
   "execution_count": null,
   "id": "d416654f-6269-49cf-81e6-745a8e61b5f4",
   "metadata": {},
   "outputs": [],
   "source": []
  }
 ],
 "metadata": {
  "kernelspec": {
   "display_name": "Python py36",
   "language": "python",
   "name": "py36"
  },
  "language_info": {
   "codemirror_mode": {
    "name": "ipython",
    "version": 3
   },
   "file_extension": ".py",
   "mimetype": "text/x-python",
   "name": "python",
   "nbconvert_exporter": "python",
   "pygments_lexer": "ipython3",
   "version": "3.6.10"
  }
 },
 "nbformat": 4,
 "nbformat_minor": 5
}
