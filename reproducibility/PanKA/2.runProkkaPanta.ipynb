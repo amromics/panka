{
 "cells": [
  {
   "cell_type": "code",
   "execution_count": 1,
   "id": "1618812e-2880-48e7-86e4-26fe53b155cb",
   "metadata": {},
   "outputs": [],
   "source": [
    "import os\n",
    "import traceback\n",
    "import logging\n",
    "import os.path\n",
    "import networkx as nx\n",
    "import pandas as pd\n",
    "import numpy as np\n",
    "import pylab as pl\n",
    "import glob\n",
    "import re\n",
    "import csv\n",
    "import shutil"
   ]
  },
  {
   "cell_type": "code",
   "execution_count": 13,
   "id": "6c0b04bb-25c6-48cc-a3ca-a635ef759db5",
   "metadata": {},
   "outputs": [],
   "source": [
    "## Sequence data directory (please download the data in put in the dir: Ecoli1936)\n",
    "pangenome_data = '../../data/Ecoli1936/'"
   ]
  },
  {
   "cell_type": "code",
   "execution_count": 3,
   "id": "2d376506-c64b-47bf-b3c4-905c3bcb1acd",
   "metadata": {},
   "outputs": [
    {
     "name": "stdout",
     "output_type": "stream",
     "text": [
      "Use the correct database for the species:   --genus Escherichia --species coli --cpus 30\n"
     ]
    }
   ],
   "source": [
    "if 'Kp' in pangenome_data:\n",
    "    data_base = ' --genus Klebsiella --species pneumoniae --cpus 30'\n",
    "elif 'Ecoli' in pangenome_data:\n",
    "    data_base = ' --genus Escherichia --species coli --cpus 30'\n",
    "else:\n",
    "    data_base = ' --cpus 30'\n",
    "print(\"Use the correct database for the species: \", data_base)"
   ]
  },
  {
   "cell_type": "markdown",
   "id": "c02a027e-be57-4a27-8743-06fd3fa2675d",
   "metadata": {},
   "source": [
    "### Run Prokka (using command lines or this code)"
   ]
  },
  {
   "cell_type": "code",
   "execution_count": null,
   "id": "c9612bfc-4b3f-4d1f-9260-55937ff56652",
   "metadata": {},
   "outputs": [],
   "source": [
    "output_dir = pangenome_data + 'temp'\n",
    "prokka_dir = pangenome_data + 'prokka_revision'\n",
    "os.system('mkdir '+ prokka_dir)\n",
    "conda_dir = 'source ~/miniconda3/etc/profile.d/conda.sh && conda activate amromics && ' # load python environment where prokka is installed\n",
    "fffile = pangenome_data + '*.fa'\n",
    "list_database = glob.glob(fffile)\n",
    "for i in range(len(list_database)):\n",
    "    input_data = list_database[i]\n",
    "    print(input_data)\n",
    "    file_name = input_data.split(\"/\")[-1][:-4]\n",
    "    prokka_bin = conda_dir + 'prokka --outdir ' + output_dir +data_base +' --prefix ' + file_name +' '+input_data\n",
    "    os.system(prokka_bin)\n",
    "    os.system('cp ' + output_dir + '/'+file_name+'.gff ' + prokka_dir)\n",
    "    os.system('rm -r '+ output_dir)\n",
    "    # if i>=1:\n",
    "    #     break;"
   ]
  },
  {
   "cell_type": "markdown",
   "id": "5c287eca-63e8-4274-aa7f-3470ef3de532",
   "metadata": {},
   "source": [
    "### Prepare data for panta -add with sequence type stratification"
   ]
  },
  {
   "cell_type": "code",
   "execution_count": 6,
   "id": "08223b51-73c6-4335-8294-f6db60c9656d",
   "metadata": {},
   "outputs": [],
   "source": [
    "## Run MLST with the command line:\n",
    "# mlst --csv --scheme ecoli ../../data/Ecoli1936/*.fa > Ecolimlst.csv\n",
    "## To obtain the metadata please check the notebook ST_analysis.ipynb"
   ]
  },
  {
   "cell_type": "code",
   "execution_count": 11,
   "id": "17990601-4dad-426a-8a9d-5e257eb4b2c7",
   "metadata": {},
   "outputs": [
    {
     "data": {
      "text/html": [
       "<div>\n",
       "<style scoped>\n",
       "    .dataframe tbody tr th:only-of-type {\n",
       "        vertical-align: middle;\n",
       "    }\n",
       "\n",
       "    .dataframe tbody tr th {\n",
       "        vertical-align: top;\n",
       "    }\n",
       "\n",
       "    .dataframe thead th {\n",
       "        text-align: right;\n",
       "    }\n",
       "</style>\n",
       "<table border=\"1\" class=\"dataframe\">\n",
       "  <thead>\n",
       "    <tr style=\"text-align: right;\">\n",
       "      <th></th>\n",
       "      <th>Isolate</th>\n",
       "      <th>Year</th>\n",
       "      <th>CTZ</th>\n",
       "      <th>CTX</th>\n",
       "      <th>AMP</th>\n",
       "      <th>AMX</th>\n",
       "      <th>AMC</th>\n",
       "      <th>TZP</th>\n",
       "      <th>CXM</th>\n",
       "      <th>CET</th>\n",
       "      <th>GEN</th>\n",
       "      <th>TBM</th>\n",
       "      <th>TMP</th>\n",
       "      <th>CIP</th>\n",
       "      <th>ST</th>\n",
       "    </tr>\n",
       "  </thead>\n",
       "  <tbody>\n",
       "    <tr>\n",
       "      <th>0</th>\n",
       "      <td>11658_4#1</td>\n",
       "      <td>2006.0</td>\n",
       "      <td>S</td>\n",
       "      <td>S</td>\n",
       "      <td>S</td>\n",
       "      <td>NaN</td>\n",
       "      <td>S</td>\n",
       "      <td>S</td>\n",
       "      <td>R</td>\n",
       "      <td>S</td>\n",
       "      <td>S</td>\n",
       "      <td>S</td>\n",
       "      <td>S</td>\n",
       "      <td>S</td>\n",
       "      <td>135</td>\n",
       "    </tr>\n",
       "    <tr>\n",
       "      <th>1</th>\n",
       "      <td>11657_5#1</td>\n",
       "      <td>2006.0</td>\n",
       "      <td>S</td>\n",
       "      <td>S</td>\n",
       "      <td>R</td>\n",
       "      <td>NaN</td>\n",
       "      <td>R</td>\n",
       "      <td>S</td>\n",
       "      <td>S</td>\n",
       "      <td>S</td>\n",
       "      <td>S</td>\n",
       "      <td>S</td>\n",
       "      <td>R</td>\n",
       "      <td>R</td>\n",
       "      <td>10</td>\n",
       "    </tr>\n",
       "  </tbody>\n",
       "</table>\n",
       "</div>"
      ],
      "text/plain": [
       "     Isolate    Year CTZ CTX AMP  AMX AMC TZP CXM CET GEN TBM TMP CIP   ST\n",
       "0  11658_4#1  2006.0   S   S   S  NaN   S   S   R   S   S   S   S   S  135\n",
       "1  11657_5#1  2006.0   S   S   R  NaN   R   S   S   S   S   S   R   R   10"
      ]
     },
     "execution_count": 11,
     "metadata": {},
     "output_type": "execute_result"
    }
   ],
   "source": [
    "metadata_panta = pd.read_csv(\"../../data/metadata/metadataEcoliST.csv\")\n",
    "metadata_panta.head(2)"
   ]
  },
  {
   "cell_type": "code",
   "execution_count": 12,
   "id": "16723261-4005-4d62-a37d-7f88366d299c",
   "metadata": {},
   "outputs": [],
   "source": [
    "sample_isolate = pd.read_csv('../../data/metadata/sample_isolate.csv')\n",
    "sample_isolate.head(2)\n",
    "isolate2sample = {}\n",
    "for idx in range(len(sample_isolate.index)):\n",
    "    isolate2sample[sample_isolate.iloc[idx,1]] =  sample_isolate.iloc[idx,0]+'.contig.gff'"
   ]
  },
  {
   "cell_type": "code",
   "execution_count": 4,
   "id": "da9c6618-f495-4972-9dfb-8e9613639765",
   "metadata": {},
   "outputs": [
    {
     "data": {
      "text/plain": [
       "'SAMEA2204229.contig.gff'"
      ]
     },
     "execution_count": 4,
     "metadata": {},
     "output_type": "execute_result"
    }
   ],
   "source": [
    "isolate2sample['11658_4#1']"
   ]
  },
  {
   "cell_type": "code",
   "execution_count": 5,
   "id": "b2398450-f7a1-4538-9335-eec67fca17ef",
   "metadata": {},
   "outputs": [],
   "source": [
    "test1_idx = [73, 10, 405, 38, 393]\n",
    "train_dir = '../../data/Ecoli1936/prokka_train/train'\n",
    "test_dir = '../../data/Ecoli1936/prokka_test/test'\n",
    "if not os.path.isdir(train_dir):\n",
    "    os.system('mkdir '+ train_dir)\n",
    "if not os.path.isdir(test_dir):\n",
    "    os.system('mkdir '+ test_dir)"
   ]
  },
  {
   "cell_type": "code",
   "execution_count": 6,
   "id": "cd62e58f-6f22-4058-9cda-aefbb82bd29c",
   "metadata": {},
   "outputs": [],
   "source": [
    "for i in range(len(metadata_panta.index)):\n",
    "    filedir = '/data/hoan/amromics/prediction/data/Ecoli1936/prokka/' + isolate2sample[metadata_panta.iloc[i, 0]]\n",
    "    cmd1 = 'cp '+ filedir + ' ' + train_dir\n",
    "    cmd2 = 'cp '+ filedir + ' ' + test_dir\n",
    "    if metadata_panta.iloc[i, -1] in test1_idx:\n",
    "        os.system(cmd2)\n",
    "    else:\n",
    "        os.system(cmd1)"
   ]
  },
  {
   "cell_type": "markdown",
   "id": "bed097cf-8a35-4ca8-b926-412987737bfa",
   "metadata": {},
   "source": [
    "### Then, run panta"
   ]
  },
  {
   "cell_type": "code",
   "execution_count": 2,
   "id": "9a24577d-8bf9-4b6b-8b63-4674fdeb9aa4",
   "metadata": {},
   "outputs": [],
   "source": [
    "# Instruction to run panta here: https://github.com/amromics/panta"
   ]
  },
  {
   "cell_type": "code",
   "execution_count": 1,
   "id": "10261e7f-0201-4d2a-b460-f013db927083",
   "metadata": {},
   "outputs": [],
   "source": [
    "# Split the data into train and test directory (by random or stratified by sequence type)"
   ]
  },
  {
   "cell_type": "code",
   "execution_count": 1,
   "id": "fffcc0e1-7e8d-4d25-8b3d-9fea23613562",
   "metadata": {},
   "outputs": [],
   "source": [
    "# Run the following command lines from the terminal\n",
    "panta main -o pantaTrainAdd -g prokka_train/train/*.gff -a protein -s -i 0.65\n",
    "cp -r pantaTrainAdd pantaTrain\n",
    "panta add -c pantaTrainAdd -g prokka_test/test/*.gff -a protein -s -i 0.65\n",
    "cp -r pantaTrainAdd pantaTest"
   ]
  },
  {
   "cell_type": "code",
   "execution_count": null,
   "id": "1056600f-c79c-45f9-a73c-9e108cf1b6a4",
   "metadata": {},
   "outputs": [],
   "source": []
  }
 ],
 "metadata": {
  "kernelspec": {
   "display_name": "Environment (panta)",
   "language": "python",
   "name": "panta"
  },
  "language_info": {
   "codemirror_mode": {
    "name": "ipython",
    "version": 3
   },
   "file_extension": ".py",
   "mimetype": "text/x-python",
   "name": "python",
   "nbconvert_exporter": "python",
   "pygments_lexer": "ipython3",
   "version": "3.7.10"
  }
 },
 "nbformat": 4,
 "nbformat_minor": 5
}
