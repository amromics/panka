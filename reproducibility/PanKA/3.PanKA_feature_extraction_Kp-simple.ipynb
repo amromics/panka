{
 "cells": [
  {
   "cell_type": "code",
   "execution_count": 1,
   "id": "45edcb50-b448-4279-a5f7-c00c5a5beb65",
   "metadata": {},
   "outputs": [],
   "source": [
    "import pandas as pd\n",
    "import seaborn as sns\n",
    "import glob\n",
    "from numpy import genfromtxt\n",
    "# from sklearn.metrics import f1_score\n",
    "from matplotlib import pyplot as plt\n",
    "import numpy as np\n",
    "import json\n",
    "from collections import OrderedDict\n",
    "import os\n",
    "import re\n",
    "import logging\n",
    "import multiprocessing\n",
    "from functools import partial\n",
    "from datetime import datetime\n",
    "from Bio import SeqIO\n",
    "from Bio.Seq import Seq\n",
    "import gzip\n",
    "from sklearn import preprocessing\n",
    "from sklearn.feature_selection import VarianceThreshold\n",
    "# https://pandas.pydata.org/docs/getting_started/intro_tutorials/03_subset_data.html"
   ]
  },
  {
   "cell_type": "markdown",
   "id": "67cad8dd-6ece-488a-ae3b-518155dc7e47",
   "metadata": {},
   "source": [
    "# Create map from gene ID to cluster ID"
   ]
  },
  {
   "cell_type": "code",
   "execution_count": 3,
   "id": "2a71e3aa-b691-4993-a1f2-913b36c1c879",
   "metadata": {},
   "outputs": [],
   "source": [
    "### panta input directory (prokka)\n",
    "# pantain_dir = '/data/hoan/amromics/prediction/data/Ecoli1936/prokkatest/'\n",
    "# pantain_dir = '/data/hoan/amromics/prediction/data/Ecoli1936/prokka/'\n",
    "# pantain_dir = '/data/hoan/amromics/kover2_paper/data/SaPatric/prokkaMore/'\n",
    "pantain_dir = '/data/hoan/amromics/kover2_paper/data/KpPatric/prokkaMore/'\n",
    "### panta output directory\n",
    "# pantaout_dir = '/data/hoan/amromics/prediction/output/pantaEcoli1936aligntest/'\n",
    "# pantaout_dir = '/data/hoan/amromics/prediction/output/pantaEcoli1936align_v4/'\n",
    "# pantaout_dir = '/data/hoan/amromics/prediction/output/pantaEcoli1936align_v9/'\n",
    "# pantaout_dir = '/data/hoan/amromics/prediction/output/pantaSaPatric/'\n",
    "pantaout_dir = '/data/hoan/amromics/prediction/output/pantaKpPatric/'"
   ]
  },
  {
   "cell_type": "code",
   "execution_count": 4,
   "id": "30e0db2a-0ad9-4b01-a50e-da730f189332",
   "metadata": {},
   "outputs": [],
   "source": [
    "with open(pantaout_dir + 'annotated_clusters.json', 'r') as JSON:\n",
    "    json_dict = json.load(JSON)\n",
    "# data = json.loads('/data/hoan/amromics/prediction/output/pantaEcoli1936aligntest/clusters.json')[0]"
   ]
  },
  {
   "cell_type": "code",
   "execution_count": 5,
   "id": "4cf6c756-0fc8-4287-a781-7ec1c2d6962b",
   "metadata": {},
   "outputs": [],
   "source": [
    "gene2clusterdict = {}\n",
    "for key in json_dict:\n",
    "    if len(json_dict[key])==0:\n",
    "        gene2clusterdict[key] = key\n",
    "    for gene in json_dict[key]['gene_id']:\n",
    "        gene2clusterdict[gene] = key"
   ]
  },
  {
   "cell_type": "markdown",
   "id": "89c042bc-0bb1-4f8b-8af3-c45f85ff6fd0",
   "metadata": {
    "tags": []
   },
   "source": [
    "# Find all AMR genes"
   ]
  },
  {
   "cell_type": "code",
   "execution_count": 6,
   "id": "b72aaf11-5805-4066-a9dc-86e11cdf49b2",
   "metadata": {
    "tags": []
   },
   "outputs": [],
   "source": [
    "from pangraph.utils import parse_gff_AMRgene_finder"
   ]
  },
  {
   "cell_type": "code",
   "execution_count": 7,
   "id": "a5175a6b-93bf-428e-9cdf-e30dc0f7af8f",
   "metadata": {
    "tags": []
   },
   "outputs": [],
   "source": [
    "amr_gene = []\n",
    "for data_dir in glob.glob(pantain_dir + '*.gff'):\n",
    "    # print(data_dir)\n",
    "    in_fh = open(data_dir)\n",
    "    sample_id = data_dir.split('/')[-1][:-4]\n",
    "    amr_gene += parse_gff_AMRgene_finder(in_fh, sample_id)\n",
    "    in_fh.close()"
   ]
  },
  {
   "cell_type": "code",
   "execution_count": 8,
   "id": "3aa7525a-448d-4f50-952d-33c23165b187",
   "metadata": {},
   "outputs": [
    {
     "data": {
      "text/plain": [
       "(['573.12900-573.12900.con.0001-ALJABHLN_00114',\n",
       "  '573.12900-573.12900.con.0001-ALJABHLN_00163',\n",
       "  '573.12900-573.12900.con.0001-ALJABHLN_00174'],\n",
       " 244260)"
      ]
     },
     "execution_count": 8,
     "metadata": {},
     "output_type": "execute_result"
    }
   ],
   "source": [
    "amr_gene[:3], len(amr_gene)"
   ]
  },
  {
   "cell_type": "code",
   "execution_count": 9,
   "id": "46f1c9b1-de33-42d5-816b-9eecc858e70f",
   "metadata": {},
   "outputs": [],
   "source": [
    "#### Map genes back to cluster IDs\n",
    "amr_clusterID = [gene2clusterdict[gene] for gene in amr_gene]\n",
    "amr_clusterID = list(set(amr_clusterID))"
   ]
  },
  {
   "cell_type": "code",
   "execution_count": 10,
   "id": "266849d4-ae30-4a94-beb8-4d9ee1e098c1",
   "metadata": {},
   "outputs": [
    {
     "data": {
      "text/plain": [
       "(452, ['tmrB', 'vanR_M_1_03052', 'cmlA6', 'cat'])"
      ]
     },
     "execution_count": 10,
     "metadata": {},
     "output_type": "execute_result"
    }
   ],
   "source": [
    "len(amr_clusterID), amr_clusterID[0:4]"
   ]
  },
  {
   "cell_type": "markdown",
   "id": "627293b9-19d8-4011-89f3-c2f3e6afd83b",
   "metadata": {},
   "source": [
    "# Find core genes"
   ]
  },
  {
   "cell_type": "code",
   "execution_count": 11,
   "id": "95f0eeb7-adbc-4ce4-82d2-68bff57acd2a",
   "metadata": {},
   "outputs": [],
   "source": [
    "pa_matrix = pd.read_csv(pantaout_dir+'gene_presence_absence.Rtab', sep='\\t', index_col=0).T"
   ]
  },
  {
   "cell_type": "code",
   "execution_count": 12,
   "id": "d40f7f59-ed8b-451c-a7eb-f542179af022",
   "metadata": {},
   "outputs": [
    {
     "data": {
      "text/html": [
       "<div>\n",
       "<style scoped>\n",
       "    .dataframe tbody tr th:only-of-type {\n",
       "        vertical-align: middle;\n",
       "    }\n",
       "\n",
       "    .dataframe tbody tr th {\n",
       "        vertical-align: top;\n",
       "    }\n",
       "\n",
       "    .dataframe thead th {\n",
       "        text-align: right;\n",
       "    }\n",
       "</style>\n",
       "<table border=\"1\" class=\"dataframe\">\n",
       "  <thead>\n",
       "    <tr style=\"text-align: right;\">\n",
       "      <th>Gene</th>\n",
       "      <th>groups_0</th>\n",
       "      <th>groups_1</th>\n",
       "      <th>groups_2</th>\n",
       "      <th>yehX</th>\n",
       "      <th>groups_4</th>\n",
       "      <th>umuC_1</th>\n",
       "      <th>intA_2</th>\n",
       "      <th>feaR</th>\n",
       "      <th>traI</th>\n",
       "      <th>groups_9</th>\n",
       "      <th>...</th>\n",
       "      <th>groups_42028</th>\n",
       "      <th>groups_42029</th>\n",
       "      <th>groups_42030</th>\n",
       "      <th>groups_42031</th>\n",
       "      <th>groups_42032</th>\n",
       "      <th>groups_42033</th>\n",
       "      <th>groups_42034</th>\n",
       "      <th>groups_42035</th>\n",
       "      <th>groups_42036</th>\n",
       "      <th>groups_42037</th>\n",
       "    </tr>\n",
       "  </thead>\n",
       "  <tbody>\n",
       "    <tr>\n",
       "      <th>1284787.3</th>\n",
       "      <td>1</td>\n",
       "      <td>1</td>\n",
       "      <td>2</td>\n",
       "      <td>14</td>\n",
       "      <td>1</td>\n",
       "      <td>3</td>\n",
       "      <td>2</td>\n",
       "      <td>2</td>\n",
       "      <td>1</td>\n",
       "      <td>0</td>\n",
       "      <td>...</td>\n",
       "      <td>0</td>\n",
       "      <td>0</td>\n",
       "      <td>0</td>\n",
       "      <td>0</td>\n",
       "      <td>0</td>\n",
       "      <td>0</td>\n",
       "      <td>0</td>\n",
       "      <td>0</td>\n",
       "      <td>0</td>\n",
       "      <td>0</td>\n",
       "    </tr>\n",
       "    <tr>\n",
       "      <th>1284788.3</th>\n",
       "      <td>3</td>\n",
       "      <td>1</td>\n",
       "      <td>0</td>\n",
       "      <td>15</td>\n",
       "      <td>2</td>\n",
       "      <td>3</td>\n",
       "      <td>2</td>\n",
       "      <td>1</td>\n",
       "      <td>1</td>\n",
       "      <td>0</td>\n",
       "      <td>...</td>\n",
       "      <td>0</td>\n",
       "      <td>0</td>\n",
       "      <td>0</td>\n",
       "      <td>0</td>\n",
       "      <td>0</td>\n",
       "      <td>0</td>\n",
       "      <td>0</td>\n",
       "      <td>0</td>\n",
       "      <td>0</td>\n",
       "      <td>0</td>\n",
       "    </tr>\n",
       "  </tbody>\n",
       "</table>\n",
       "<p>2 rows × 42038 columns</p>\n",
       "</div>"
      ],
      "text/plain": [
       "Gene       groups_0  groups_1  groups_2  yehX  groups_4  umuC_1  intA_2  feaR  \\\n",
       "1284787.3         1         1         2    14         1       3       2     2   \n",
       "1284788.3         3         1         0    15         2       3       2     1   \n",
       "\n",
       "Gene       traI  groups_9  ...  groups_42028  groups_42029  groups_42030  \\\n",
       "1284787.3     1         0  ...             0             0             0   \n",
       "1284788.3     1         0  ...             0             0             0   \n",
       "\n",
       "Gene       groups_42031  groups_42032  groups_42033  groups_42034  \\\n",
       "1284787.3             0             0             0             0   \n",
       "1284788.3             0             0             0             0   \n",
       "\n",
       "Gene       groups_42035  groups_42036  groups_42037  \n",
       "1284787.3             0             0             0  \n",
       "1284788.3             0             0             0  \n",
       "\n",
       "[2 rows x 42038 columns]"
      ]
     },
     "execution_count": 12,
     "metadata": {},
     "output_type": "execute_result"
    }
   ],
   "source": [
    "pa_matrix.head(2)"
   ]
  },
  {
   "cell_type": "code",
   "execution_count": 13,
   "id": "0a6105c0-b1c0-4fae-b8bb-bb306ddb20b6",
   "metadata": {},
   "outputs": [],
   "source": [
    "n_samples = pa_matrix.shape[0]\n",
    "n_genes = pa_matrix.shape[1]"
   ]
  },
  {
   "cell_type": "code",
   "execution_count": 14,
   "id": "3265bcbb-a299-4ff3-a4ff-701cfee265b0",
   "metadata": {},
   "outputs": [],
   "source": [
    "colsum = pa_matrix.sum()\n",
    "# core_gene_cluster = [colsum.index[idx] for idx in range(n_genes) if colsum[idx] >= 0.9999*n_samples] # E. coli\n",
    "core_gene_cluster = [colsum.index[idx] for idx in range(n_genes) if colsum[idx] >= 0.9999*n_samples] # K. p."
   ]
  },
  {
   "cell_type": "code",
   "execution_count": 15,
   "id": "07a52cf6-42a1-4d57-b18f-3675f3ad0907",
   "metadata": {},
   "outputs": [
    {
     "data": {
      "text/plain": [
       "(['groups_0', 'groups_1', 'groups_2', 'yehX'], 2791, 42038)"
      ]
     },
     "execution_count": 15,
     "metadata": {},
     "output_type": "execute_result"
    }
   ],
   "source": [
    "core_gene_cluster[:4], len(core_gene_cluster), n_genes"
   ]
  },
  {
   "cell_type": "markdown",
   "id": "ee16af0c-6a5f-4ff1-85ff-0a937b7cd8e4",
   "metadata": {
    "tags": []
   },
   "source": [
    "# Compute label encoder"
   ]
  },
  {
   "cell_type": "markdown",
   "id": "9e02428e-8e65-4ad4-824f-bd4c90bb0b28",
   "metadata": {
    "tags": []
   },
   "source": [
    "## Compute K-mer of AMR clusters"
   ]
  },
  {
   "cell_type": "code",
   "execution_count": 16,
   "id": "56e6e4f0-03d6-4a20-a155-08103b893654",
   "metadata": {},
   "outputs": [],
   "source": [
    "from pangraph.utils import binary_label\n",
    "from sklearn.feature_selection import mutual_info_classif, chi2"
   ]
  },
  {
   "cell_type": "code",
   "execution_count": 17,
   "id": "c49c5351-5201-43e4-8421-97fd34966840",
   "metadata": {},
   "outputs": [],
   "source": [
    "# Read prepresentative sequence\n",
    "from Bio import SeqIO\n",
    "genecluster2representativeseq = {}\n",
    "with open(pantaout_dir+'representative_clusters_prot.fasta') as handle:\n",
    "    for record in SeqIO.parse(handle, \"fasta\"):\n",
    "        name, sequence = record.id, str(record.seq)\n",
    "        genecluster2representativeseq[name] = sequence\n",
    "        # print(name,'----', sequence)"
   ]
  },
  {
   "cell_type": "code",
   "execution_count": 18,
   "id": "9f9aaca6-c302-4876-867c-efce7f26c9f7",
   "metadata": {},
   "outputs": [],
   "source": [
    "with open(pantaout_dir + 'samples.json', 'r') as JSON:\n",
    "    sample_dict = json.load(JSON)\n",
    "sample2integerindex = {}\n",
    "for idx in range(len(sample_dict)):\n",
    "    sample2integerindex[sample_dict[idx]['id']] = idx\n",
    "n_samples = len(sample_dict)"
   ]
  },
  {
   "cell_type": "code",
   "execution_count": 19,
   "id": "86a9b1ce-d4cc-4172-ae6b-f0271c953a15",
   "metadata": {},
   "outputs": [],
   "source": [
    "computed_gene_cluster = amr_clusterID;"
   ]
  },
  {
   "cell_type": "code",
   "execution_count": 20,
   "id": "3b272bf7-f218-43e1-b508-7f4aaf547ffe",
   "metadata": {},
   "outputs": [],
   "source": [
    "# amr_mat = None;\n",
    "ksize = 10; # k = 10 for protein, 20 for DNA\n",
    "kmer_list = [];\n",
    "# amr_mat = np.zeros((n_samples, len(computed_gene_cluster)))\n",
    "pairdata = []\n",
    "for idx in range(len(computed_gene_cluster)):\n",
    "    alignment_dir = pantaout_dir + 'clusters/' + computed_gene_cluster[idx] +'/'+computed_gene_cluster[idx]+'.faa.aln.gz'\n",
    "    # alignment_dir = pantaout_dir + 'clusters/' + computed_gene_cluster[idx] +'/'+computed_gene_cluster[idx]+'.fna.aln.gz'\n",
    "    with gzip.open(alignment_dir, \"rt\") as handle:\n",
    "        for record in SeqIO.parse(handle, \"fasta\"):\n",
    "            name, sequence = record.id, str(record.seq)\n",
    "            sample_id = name.split('-')[0]\n",
    "            seqraw = sequence.replace('-', '')\n",
    "            n_kmers = len(seqraw) - ksize + 1\n",
    "            for i in range(n_kmers):\n",
    "                kmer = seqraw[i:i + ksize] \n",
    "                # kmer = computed_gene_cluster[idx] + seqraw[i:i + ksize] # compute unique kmer for eaach cluster\n",
    "                kmer_list.append(kmer)\n",
    "                pairdata.append((sample2integerindex[sample_id], kmer))"
   ]
  },
  {
   "cell_type": "code",
   "execution_count": 21,
   "id": "6f084e88-8ea8-49dd-ae1d-30dc4a8f8121",
   "metadata": {},
   "outputs": [],
   "source": [
    "unique_kmer = list(set(kmer_list))"
   ]
  },
  {
   "cell_type": "code",
   "execution_count": 22,
   "id": "3d989be6-3cac-4515-8739-5f64708c9841",
   "metadata": {},
   "outputs": [
    {
     "data": {
      "text/plain": [
       "(189899438, 484013, ['DFVAGVGVGK', 'DPELCNEVLN', 'WADTAVAVTY'])"
      ]
     },
     "execution_count": 22,
     "metadata": {},
     "output_type": "execute_result"
    }
   ],
   "source": [
    "# AMR genes: (74198447, 169115)\n",
    "len(kmer_list), len(unique_kmer), unique_kmer[0:3]"
   ]
  },
  {
   "cell_type": "code",
   "execution_count": 23,
   "id": "e9d49b57-7831-4d57-b5ed-6bb4a1b1ebe9",
   "metadata": {},
   "outputs": [],
   "source": [
    "kmer2index = {}\n",
    "for i in range(len(unique_kmer)):\n",
    "    kmer2index[unique_kmer[i]] = i"
   ]
  },
  {
   "cell_type": "code",
   "execution_count": 24,
   "id": "d14d3ac1-3ccb-4189-adf2-97d06edaaa99",
   "metadata": {},
   "outputs": [],
   "source": [
    "kmer_matrix = np.zeros((n_samples, len(unique_kmer)))"
   ]
  },
  {
   "cell_type": "code",
   "execution_count": 25,
   "id": "f8123f83-0239-469f-84c1-d2babd6809f8",
   "metadata": {},
   "outputs": [],
   "source": [
    "# ct = 0\n",
    "for u, v in pairdata:\n",
    "    # kmer_matrix[u, kmer2index[v]] += 1\n",
    "    kmer_matrix[u, kmer2index[v]] = 1"
   ]
  },
  {
   "cell_type": "code",
   "execution_count": 26,
   "id": "48f11333-2bb5-489e-aade-0c44dd2aca43",
   "metadata": {},
   "outputs": [
    {
     "data": {
      "text/plain": [
       "(2334, 484013)"
      ]
     },
     "execution_count": 26,
     "metadata": {},
     "output_type": "execute_result"
    }
   ],
   "source": [
    "kmer_matrix.shape"
   ]
  },
  {
   "cell_type": "code",
   "execution_count": 27,
   "id": "37bdc10b-ac67-44c5-8a2c-bffeae3ba464",
   "metadata": {},
   "outputs": [],
   "source": [
    "# selector = VarianceThreshold(threshold=0.05)\n",
    "selector = VarianceThreshold(threshold=0.01)\n",
    "kmer_matrix_VT = selector.fit_transform(kmer_matrix)"
   ]
  },
  {
   "cell_type": "code",
   "execution_count": 28,
   "id": "1a363b5f-e68c-42f0-a8a2-5ca8af33427c",
   "metadata": {},
   "outputs": [
    {
     "data": {
      "text/plain": [
       "(2334, 91532)"
      ]
     },
     "execution_count": 28,
     "metadata": {},
     "output_type": "execute_result"
    }
   ],
   "source": [
    "# (1653, 59580)\n",
    "kmer_matrix_VT.shape"
   ]
  },
  {
   "cell_type": "code",
   "execution_count": 29,
   "id": "670732ab-d14d-4de9-a46d-b44c2f94d19f",
   "metadata": {},
   "outputs": [],
   "source": [
    "np.save(pantaout_dir + 'KmerEncoderAMRGenesSubmission.npy', kmer_matrix_VT) # save numpy array"
   ]
  },
  {
   "cell_type": "code",
   "execution_count": 30,
   "id": "24ff897a-2f35-458d-a23a-48683ca5ac3f",
   "metadata": {},
   "outputs": [],
   "source": [
    "kmerindex_final = np.array(unique_kmer)[selector.get_support()==True]"
   ]
  },
  {
   "cell_type": "code",
   "execution_count": 31,
   "id": "05c70823-bc62-45a6-90c0-e1de07a1cc17",
   "metadata": {},
   "outputs": [],
   "source": [
    "np.save(pantaout_dir + 'KmerEncoderAMRGenesSubmission_index.npy', kmerindex_final) # save numpy array"
   ]
  },
  {
   "cell_type": "markdown",
   "id": "0558bc54-5142-4d59-a1ec-aa138683a9b4",
   "metadata": {},
   "source": [
    "### Get metadata"
   ]
  },
  {
   "cell_type": "code",
   "execution_count": 32,
   "id": "3aa0ca60-abc9-4501-841d-2667612e1beb",
   "metadata": {},
   "outputs": [],
   "source": [
    "# ## Ecoli\n",
    "# metadata_panta = pd.read_csv(\"data/Ecoli1936metafiles/metadata_final.csv\")"
   ]
  },
  {
   "cell_type": "code",
   "execution_count": 33,
   "id": "c5725af9-7b3f-486a-9ee2-d4ea6f418f70",
   "metadata": {},
   "outputs": [],
   "source": [
    "# # pa_matrix = pd.read_csv('/data/hoan/amromics/prediction/output/pantaKpPatric/gene_presence_absence.Rtab', sep='\\t', index_col=0).T\n",
    "# pa_matrix = pd.read_csv(pantaout_dir+'gene_presence_absence.Rtab', sep='\\t', index_col=0).T"
   ]
  },
  {
   "cell_type": "code",
   "execution_count": 34,
   "id": "e428ac7d-20e0-4f16-a500-c2e212eec75e",
   "metadata": {},
   "outputs": [],
   "source": [
    "# pa_matrix.index[0:10]"
   ]
  },
  {
   "cell_type": "code",
   "execution_count": 35,
   "id": "106d07cb-93b7-4f67-b8d9-fe6d96872ea3",
   "metadata": {},
   "outputs": [],
   "source": [
    "# ### Check the difference between metadata and matrix\n",
    "# diffindex = set(pa_matrix.index).difference(set(metadata.index))\n",
    "# # diffindex\n",
    "# newindex = [val + '0' if val in diffindex else val for val in pa_matrix.index]\n",
    "# pa_matrix.index = newindex\n",
    "# len(set(pa_matrix.index).difference(set(metadata.index)))"
   ]
  },
  {
   "cell_type": "code",
   "execution_count": 36,
   "id": "b94dcec8-a3c5-4947-b80a-a54acedb387f",
   "metadata": {},
   "outputs": [],
   "source": [
    "# ### Export refined metadata\n",
    "# metadata_panta = metadata.loc[list(pa_matrix.index)]\n",
    "# newcolumn = [item.replace(\"_\", \"@\") for item in metadata_panta.columns]\n",
    "# metadata_panta.columns = newcolumn\n",
    "# metadata_panta.to_csv(\"/data/hoan/amromics/prediction/data/Kpmetadata_final.csv\", index=False)"
   ]
  },
  {
   "cell_type": "code",
   "execution_count": 37,
   "id": "32a335b0-8d7b-4397-b791-0032efd9a245",
   "metadata": {},
   "outputs": [],
   "source": [
    "# metadata_panta"
   ]
  },
  {
   "cell_type": "markdown",
   "id": "aceafacb-1f49-47d7-8394-634e794763c5",
   "metadata": {
    "tags": []
   },
   "source": [
    "## Compute label encoder for AMR clusters"
   ]
  },
  {
   "cell_type": "code",
   "execution_count": 38,
   "id": "1337485a-bd67-44e0-9226-77e978d087e4",
   "metadata": {},
   "outputs": [],
   "source": [
    "computed_gene_cluster = amr_clusterID;"
   ]
  },
  {
   "cell_type": "code",
   "execution_count": 39,
   "id": "4bef4ccf-823b-428b-a838-a526fc446e5c",
   "metadata": {},
   "outputs": [],
   "source": [
    "with open(pantaout_dir + 'samples.json', 'r') as JSON:\n",
    "    sample_dict = json.load(JSON)\n",
    "sample2integerindex = {}\n",
    "for idx in range(len(sample_dict)):\n",
    "    sample2integerindex[sample_dict[idx]['id']] = idx\n",
    "n_samples = len(sample_dict)"
   ]
  },
  {
   "cell_type": "code",
   "execution_count": 40,
   "id": "7a1c50df-7cab-44a3-a025-78038c1bfec0",
   "metadata": {},
   "outputs": [],
   "source": [
    "amr_mat = None;\n",
    "start_idx = [0];\n",
    "pass_gene_cluster = [];\n",
    "for idx in range(len(computed_gene_cluster)):\n",
    "    alignment_dir = pantaout_dir + 'clusters/' + computed_gene_cluster[idx] +'/'+computed_gene_cluster[idx]+'.faa.aln.gz'\n",
    "    codes = ['A', 'C', 'D', 'E', 'F', 'G', 'H', 'I', 'K', 'L',\n",
    "             'M', 'N', 'P', 'Q', 'R', 'S', 'T', 'V', 'W', 'Y', '-', 'X']\n",
    "    le = preprocessing.LabelEncoder()\n",
    "    le.fit(codes)\n",
    "    mat = None; index = 0; index_set = []\n",
    "    with gzip.open(alignment_dir, \"rt\") as handle:\n",
    "        for record in SeqIO.parse(handle, \"fasta\"):\n",
    "            name, sequence = record.id, str(record.seq)\n",
    "            sample_id = name.split('-')[0]\n",
    "            if index == 0:\n",
    "                mat = np.zeros((n_samples, len(sequence)))\n",
    "            index += 1\n",
    "            mat[sample2integerindex[sample_id],:] = 1 + le.transform([*sequence])\n",
    "            index_set.append(sample2integerindex[sample_id])\n",
    "            # print(record.id)\n",
    "    if idx==0:\n",
    "        pass_gene_cluster.append(computed_gene_cluster[idx])\n",
    "        start_idx += [start_idx[-1] + mat.shape[1]]\n",
    "        amr_mat = mat\n",
    "    else:\n",
    "        # ## Run feature selection\n",
    "        # variant_thres = 0.05\n",
    "        variant_thres = 0\n",
    "        vs = True\n",
    "        if len(index_set) >= int(n_samples*0.01):\n",
    "            try:\n",
    "                sel = VarianceThreshold(variant_thres)\n",
    "                sel.fit(mat[index_set,:])\n",
    "            except ValueError:\n",
    "                vs = False\n",
    "            if vs:\n",
    "                mat = mat[:, sel.variances_>variant_thres]\n",
    "                if mat.shape[0] > 0:\n",
    "                    pass_gene_cluster.append(computed_gene_cluster[idx])\n",
    "                    start_idx += [start_idx[-1] + mat.shape[1]]\n",
    "                    amr_mat = np.append(amr_mat, mat, axis=1)\n",
    "end_idx = [start_idx[idx]-1 for idx in range(1, len(start_idx))]\n",
    "start_idx = start_idx[:-1]"
   ]
  },
  {
   "cell_type": "code",
   "execution_count": 41,
   "id": "003996ae-bc92-4ad9-ab3c-0bd34990f514",
   "metadata": {},
   "outputs": [
    {
     "data": {
      "text/plain": [
       "(2334, 85070)"
      ]
     },
     "execution_count": 41,
     "metadata": {},
     "output_type": "execute_result"
    }
   ],
   "source": [
    "amr_mat.shape"
   ]
  },
  {
   "cell_type": "code",
   "execution_count": 42,
   "id": "47a30345-1a1f-45d8-acd9-0a7549ea5775",
   "metadata": {},
   "outputs": [
    {
     "name": "stdout",
     "output_type": "stream",
     "text": [
      "amikacin\n",
      "amoxicillin@clavulanic@acid\n",
      "ampicillin@sulbactam\n",
      "aztreonam\n",
      "cefazolin\n",
      "cefepime\n",
      "cefoxitin\n",
      "ceftazidime\n",
      "ceftriaxone\n",
      "cefuroxime@sodium\n",
      "ciprofloxacin\n",
      "ertapenem\n",
      "gentamicin\n",
      "imipenem\n",
      "levofloxacin\n",
      "meropenem\n",
      "nitrofurantoin\n",
      "ofloxacin\n",
      "piperacillin@tazobactam\n",
      "tetracycline\n",
      "ticarcillin@clavulanic@acid\n",
      "tobramycin\n",
      "trimethoprim\n",
      "trimethoprim@sulfamethoxazole\n"
     ]
    }
   ],
   "source": [
    "metadata_panta = pd.read_csv(\"/data/hoan/amromics/prediction/data/Kpmetadata_final.csv\")\n",
    "# metadata_panta = pd.read_csv(\"data/Ecoli1936metafiles/metadata_final.csv\")\n",
    "mutual_mat = []\n",
    "for idx in range(2, metadata_panta.shape[1]):\n",
    "    y_class = metadata_panta.iloc[:,idx].values\n",
    "    print(metadata_panta.columns[idx])\n",
    "    y, nonenan_index = binary_label(y_class) # v6\n",
    "    pa_matrix_new = amr_mat[nonenan_index, ]\n",
    "    y_new = y[nonenan_index].astype(int)\n",
    "    scores, pvalue = chi2(pa_matrix_new, y_new)\n",
    "    mutual_mat.append(scores)\n",
    "mutual_mat = np.array(mutual_mat)\n",
    "mutual_mat_mean = mutual_mat.mean(axis=0)"
   ]
  },
  {
   "cell_type": "code",
   "execution_count": 43,
   "id": "2c0f30e3-a1b4-421b-8f7f-a6675dd06c96",
   "metadata": {},
   "outputs": [
    {
     "data": {
      "text/plain": [
       "(2334, 20000)"
      ]
     },
     "execution_count": 43,
     "metadata": {},
     "output_type": "execute_result"
    }
   ],
   "source": [
    "top_features = np.argsort(mutual_mat_mean)[::-1][:20000]\n",
    "kmer_matrix_VT_top_features = amr_mat[:,top_features]\n",
    "kmer_matrix_VT_top_features.shape"
   ]
  },
  {
   "cell_type": "code",
   "execution_count": 44,
   "id": "c7797d05-bec0-4099-823d-9247a3c1f8ce",
   "metadata": {},
   "outputs": [],
   "source": [
    "# np.save(pantaout_dir + 'amrlabelencodermat_top10kgenes_v9.npy', amr_mat) # save numpy array\n",
    "# np.save(pantaout_dir + 'KpAMRGeneLabelEncoderMat.npy', amr_mat) # save numpy array\n",
    "outdata_name = 'KpAMRGeneLabelEncoderMatTop20k'\n",
    "np.save(pantaout_dir + outdata_name + '.npy', kmer_matrix_VT_top_features) # save numpy array\n",
    "# outdata_name = 'genes_fold_' + str(fold_idx)\n",
    "# np.save(pantaout_dir + outdata_name + '.npy', amr_mat) # save numpy array"
   ]
  },
  {
   "cell_type": "code",
   "execution_count": 45,
   "id": "9c21a637-3fe1-4df7-a37a-098420ef019a",
   "metadata": {},
   "outputs": [],
   "source": [
    "amrgene_annotation = pd.DataFrame({'gene': pass_gene_cluster, 'start_index': start_idx, 'end_index': end_idx})\n",
    "amrgene_annotation.to_csv(pantaout_dir + outdata_name + '_geneindex.csv', index=None)"
   ]
  },
  {
   "cell_type": "markdown",
   "id": "331bef05-0fbd-49e3-92fa-4d55b8f18ead",
   "metadata": {
    "tags": []
   },
   "source": [
    "## Compute label encoder for core gene clusters"
   ]
  },
  {
   "cell_type": "code",
   "execution_count": 46,
   "id": "13d83b5f-3055-4d61-804b-33ac663bbd9f",
   "metadata": {},
   "outputs": [],
   "source": [
    "computed_gene_cluster = core_gene_cluster;"
   ]
  },
  {
   "cell_type": "code",
   "execution_count": 47,
   "id": "7ccc74e3-6277-4231-9ec8-942027633f60",
   "metadata": {},
   "outputs": [],
   "source": [
    "with open(pantaout_dir + 'samples.json', 'r') as JSON:\n",
    "    sample_dict = json.load(JSON)\n",
    "sample2integerindex = {}\n",
    "for idx in range(len(sample_dict)):\n",
    "    sample2integerindex[sample_dict[idx]['id']] = idx\n",
    "n_samples = len(sample_dict)"
   ]
  },
  {
   "cell_type": "code",
   "execution_count": 48,
   "id": "3c37c198-5e1c-4ad5-8ea5-ebe7b4a72ff0",
   "metadata": {},
   "outputs": [
    {
     "data": {
      "text/plain": [
       "['groups_0', 'groups_1', 'groups_2', 'yehX', 'groups_4']"
      ]
     },
     "execution_count": 48,
     "metadata": {},
     "output_type": "execute_result"
    }
   ],
   "source": [
    "computed_gene_cluster[:5]"
   ]
  },
  {
   "cell_type": "code",
   "execution_count": null,
   "id": "d302a8f4-e444-4745-a7b8-b477735b5827",
   "metadata": {},
   "outputs": [],
   "source": [
    "amr_mat = None;\n",
    "start_idx = [0];\n",
    "pass_gene_cluster = [];\n",
    "for idx in range(len(computed_gene_cluster)):\n",
    "    # print(idx, end=',')\n",
    "    alignment_dir = pantaout_dir + 'clusters/' + computed_gene_cluster[idx] +'/'+computed_gene_cluster[idx]+'.faa.aln.gz'\n",
    "    codes = ['A', 'C', 'D', 'E', 'F', 'G', 'H', 'I', 'K', 'L',\n",
    "             'M', 'N', 'P', 'Q', 'R', 'S', 'T', 'V', 'W', 'Y', '-', 'X']\n",
    "    # ['-' 'A' 'D' 'E' 'F' 'G' 'H' 'I' 'K' 'L' 'M' 'N' 'P' 'Q' 'R' 'S' 'T' 'V' 'W' 'X' 'Y']\n",
    "    le = preprocessing.LabelEncoder()\n",
    "    le.fit(codes)\n",
    "    mat = None; index = 0; index_set = []\n",
    "    with gzip.open(alignment_dir, \"rt\") as handle:\n",
    "        for record in SeqIO.parse(handle, \"fasta\"):\n",
    "            name, sequence = record.id, str(record.seq)\n",
    "            sample_id = name.split('-')[0]\n",
    "            if index == 0:\n",
    "                mat = np.zeros((n_samples, len(sequence)))\n",
    "            index += 1\n",
    "            # if idx >= 2:\n",
    "            #     print(np.unique(np.array([*sequence])))\n",
    "            mat[sample2integerindex[sample_id],:] = 1 + le.transform([*sequence])\n",
    "            index_set.append(sample2integerindex[sample_id])\n",
    "            # print(record.id)\n",
    "    if idx==0:\n",
    "        pass_gene_cluster.append(computed_gene_cluster[idx])\n",
    "        start_idx += [start_idx[-1] + mat.shape[1]]\n",
    "        amr_mat = mat\n",
    "    else:\n",
    "        # ## Run feature selection\n",
    "        # variant_thres = 0.05\n",
    "        variant_thres = 0\n",
    "        vs = True\n",
    "        if len(index_set) >= int(n_samples*0.01):\n",
    "            try:\n",
    "                sel = VarianceThreshold(variant_thres)\n",
    "                sel.fit(mat[index_set,:])\n",
    "            except ValueError:\n",
    "                vs = False\n",
    "            if vs:\n",
    "                mat = mat[:, sel.variances_>variant_thres]\n",
    "                if mat.shape[0] > 0:\n",
    "                    pass_gene_cluster.append(computed_gene_cluster[idx])\n",
    "                    start_idx += [start_idx[-1] + mat.shape[1]]\n",
    "                    amr_mat = np.append(amr_mat, mat, axis=1)\n",
    "end_idx = [start_idx[idx] for idx in range(1, len(start_idx))]\n",
    "start_idx = start_idx[:-1]"
   ]
  },
  {
   "cell_type": "code",
   "execution_count": null,
   "id": "c5de4d9c-5733-45c0-889e-02fbbfa6a39d",
   "metadata": {},
   "outputs": [],
   "source": [
    "amr_mat.shape"
   ]
  },
  {
   "cell_type": "code",
   "execution_count": null,
   "id": "bc90febd-cd62-4ee8-a6ae-26277d6daf63",
   "metadata": {},
   "outputs": [],
   "source": [
    "# pantaout_dir = '/data/hoan/amromics/prediction/output/pantaKpPatric/'\n",
    "# # snp_data = 'KpPatricCoreGeneLabelEncoderMatTop2k.npy'\n",
    "# # snp_data = 'KpAMRGeneLabelEncoderMatTop20k.npy'\n",
    "# snp_data = 'KpPatricCoreGeneLabelEncoderMatTop2k.npy'\n",
    "# amr_mat = np.load(pantaout_dir + snp_data) # pantaDifferSite"
   ]
  },
  {
   "cell_type": "code",
   "execution_count": null,
   "id": "cabd32eb-a335-46d5-8c78-0c3accd18212",
   "metadata": {},
   "outputs": [],
   "source": [
    "amr_mat.shape"
   ]
  },
  {
   "cell_type": "code",
   "execution_count": null,
   "id": "3f049226-4a3b-4267-8050-f5fe1f8e1aa0",
   "metadata": {},
   "outputs": [],
   "source": [
    "## Delete this\n",
    "# end_idx_old = end_idx\n",
    "# end_idx = [end_idx_old[i] + 1 for i in range(len(end_idx_old))]"
   ]
  },
  {
   "cell_type": "code",
   "execution_count": null,
   "id": "ddf6e0a6-655f-413c-b619-0658c983f076",
   "metadata": {},
   "outputs": [],
   "source": [
    "amrgene_annotation = pd.DataFrame({'gene': pass_gene_cluster, 'start_index': start_idx, 'end_index': end_idx})\n",
    "# amrgene_annotation.to_csv(pantaout_dir + outdata_name + '_geneindex.csv', index=None)"
   ]
  },
  {
   "cell_type": "code",
   "execution_count": null,
   "id": "b2908bc5-e6ca-4fc5-9745-d63049b0a70f",
   "metadata": {},
   "outputs": [],
   "source": [
    "np.save(pantaout_dir + 'SNPsCoreGeneFullSubmission.npy', amr_mat) # save numpy array\n",
    "# amr_mat = np.load(pantaout_dir + 'SNPsCoreGeneFullSubmission.npy') "
   ]
  },
  {
   "cell_type": "code",
   "execution_count": null,
   "id": "d70c4a9f-8fd8-4b1b-9698-90ae9db4260b",
   "metadata": {},
   "outputs": [],
   "source": [
    "amrgene_annotation.to_pickle(pantaout_dir + 'SNPsCoreGeneFullSubmission_metadata.pkl')\n",
    "# amrgene_annotation = pd.read_pickle(pantaout_dir + 'SNPsCoreGeneFullSubmission_metadata.pkl')"
   ]
  },
  {
   "cell_type": "code",
   "execution_count": null,
   "id": "f2d50849-5c1d-4424-8ffc-3d8979ec544c",
   "metadata": {},
   "outputs": [],
   "source": [
    "amr_mat[:,amrgene_annotation.iloc[-1,1]:amrgene_annotation.iloc[-1,2]].shape"
   ]
  },
  {
   "cell_type": "code",
   "execution_count": null,
   "id": "3a8d0158-3261-43c0-8efd-4399db98c86e",
   "metadata": {},
   "outputs": [],
   "source": [
    "amrgene_annotation.head(3)"
   ]
  },
  {
   "cell_type": "code",
   "execution_count": null,
   "id": "8479dbd7-3e68-4fd1-970c-e5afc9c607ed",
   "metadata": {},
   "outputs": [],
   "source": [
    "snpheader = []\n",
    "for idx in range(len(amrgene_annotation.index)):\n",
    "    start_idx = amrgene_annotation.iloc[idx, 1]\n",
    "    end_idx = amrgene_annotation.iloc[idx, 2]\n",
    "    for i in range(start_idx, end_idx):\n",
    "        snpheader.append(amrgene_annotation.iloc[idx, 0] + '@'+str(i))"
   ]
  },
  {
   "cell_type": "code",
   "execution_count": null,
   "id": "f3d21c8e-1533-45c9-b521-f7febd345200",
   "metadata": {},
   "outputs": [],
   "source": [
    "len(snpheader), snpheader[:3]"
   ]
  },
  {
   "cell_type": "code",
   "execution_count": null,
   "id": "e5bbb5f3-1bf2-4469-bc35-8523e7ec3fe9",
   "metadata": {},
   "outputs": [],
   "source": [
    "metadata_panta = pd.read_csv(\"/data/hoan/amromics/prediction/data/Kpmetadata_final.csv\")\n",
    "# metadata_panta = pd.read_csv(\"data/Ecoli1936metafiles/metadata_final.csv\")\n",
    "mutual_mat = []\n",
    "for idx in range(2, metadata_panta.shape[1]):\n",
    "    y_class = metadata_panta.iloc[:,idx].values\n",
    "    print(metadata_panta.columns[idx])\n",
    "    y, nonenan_index = binary_label(y_class) # v6\n",
    "    pa_matrix_new = amr_mat[nonenan_index, ]\n",
    "    y_new = y[nonenan_index].astype(int)\n",
    "    scores, pvalue = chi2(pa_matrix_new, y_new)\n",
    "    mutual_mat.append(scores)\n",
    "mutual_mat = np.array(mutual_mat)\n",
    "mutual_mat_mean = mutual_mat.mean(axis=0)"
   ]
  },
  {
   "cell_type": "code",
   "execution_count": null,
   "id": "becfc214-acb5-41db-b816-967fac4b03db",
   "metadata": {},
   "outputs": [],
   "source": [
    "top_features = np.argsort(mutual_mat_mean)[::-1][:10000]\n",
    "kmer_matrix_VT_top_features = amr_mat[:,top_features]\n",
    "kmer_matrix_VT_top_features.shape"
   ]
  },
  {
   "cell_type": "code",
   "execution_count": null,
   "id": "c455d5bf-e259-4282-91c4-4b64b99a8d67",
   "metadata": {},
   "outputs": [],
   "source": [
    "snp_features_name = np.array(snpheader)[top_features]"
   ]
  },
  {
   "cell_type": "code",
   "execution_count": null,
   "id": "3eadfeb0-532f-44f4-b89b-cceeac2617a1",
   "metadata": {},
   "outputs": [],
   "source": [
    "np.save(pantaout_dir + 'SNPsCoreGeneTop10KSubmission.npy', kmer_matrix_VT_top_features) # save numpy array"
   ]
  },
  {
   "cell_type": "code",
   "execution_count": null,
   "id": "57192a8d-b272-4942-af26-5cb722e8f02e",
   "metadata": {},
   "outputs": [],
   "source": [
    "np.save(pantaout_dir + 'SNPsCoreGeneTop10KSubmission_index.npy', snp_features_name) # save numpy array"
   ]
  },
  {
   "cell_type": "code",
   "execution_count": null,
   "id": "53107afa-6019-4cc5-8e38-1da0db633387",
   "metadata": {},
   "outputs": [],
   "source": []
  }
 ],
 "metadata": {
  "kernelspec": {
   "display_name": "Python py36",
   "language": "python",
   "name": "py36"
  },
  "language_info": {
   "codemirror_mode": {
    "name": "ipython",
    "version": 3
   },
   "file_extension": ".py",
   "mimetype": "text/x-python",
   "name": "python",
   "nbconvert_exporter": "python",
   "pygments_lexer": "ipython3",
   "version": "3.6.10"
  }
 },
 "nbformat": 4,
 "nbformat_minor": 5
}
