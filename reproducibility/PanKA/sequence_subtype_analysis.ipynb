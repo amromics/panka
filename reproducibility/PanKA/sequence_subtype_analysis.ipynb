{
 "cells": [
  {
   "cell_type": "code",
   "execution_count": 1,
   "id": "76b3e94b-a666-4c13-ad61-02fcc8b6ae7d",
   "metadata": {},
   "outputs": [],
   "source": [
    "import pandas as pd\n",
    "import seaborn as sns\n",
    "import glob\n",
    "from numpy import genfromtxt\n",
    "# from sklearn.metrics import f1_score\n",
    "from matplotlib import pyplot as plt\n",
    "import numpy as np\n",
    "import json\n",
    "from collections import OrderedDict\n",
    "import os\n",
    "import re\n",
    "import logging\n",
    "import multiprocessing\n",
    "from functools import partial\n",
    "from datetime import datetime\n",
    "from Bio import SeqIO\n",
    "from Bio.Seq import Seq\n",
    "import gzip\n",
    "from sklearn import preprocessing\n",
    "from sklearn.feature_selection import VarianceThreshold\n",
    "# https://pandas.pydata.org/docs/getting_started/intro_tutorials/03_subset_data.html\n",
    "import seaborn as sns"
   ]
  },
  {
   "cell_type": "code",
   "execution_count": 2,
   "id": "5c9d30fb-6663-46f5-bb54-cc9a68d35aab",
   "metadata": {},
   "outputs": [],
   "source": [
    "def binary_label(y_class):\n",
    "    y_bin = []\n",
    "    nonenan_index = []\n",
    "    for i in range(len(y_class)):\n",
    "        if y_class[i]=='R' or y_class[i]=='I':\n",
    "            y_bin.append(1)\n",
    "            nonenan_index.append(i)\n",
    "        elif y_class[i]=='S':\n",
    "            y_bin.append(0)\n",
    "            nonenan_index.append(i)\n",
    "        else:\n",
    "            y_bin.append(y_class[i])\n",
    "    return np.array(y_bin), nonenan_index"
   ]
  },
  {
   "cell_type": "code",
   "execution_count": 3,
   "id": "5f62607f-1902-4acf-b301-27844e87f7b9",
   "metadata": {},
   "outputs": [],
   "source": [
    "metadata_panta = pd.read_csv(\"../data/Ecoli1936metafiles/metadata_final.csv\")"
   ]
  },
  {
   "cell_type": "code",
   "execution_count": 4,
   "id": "3ddaf0da-9e4e-4f86-a60d-b8916a89cca8",
   "metadata": {},
   "outputs": [
    {
     "data": {
      "text/plain": [
       "((1653, 14),\n",
       "      Isolate    Year CTZ CTX AMP  AMX AMC TZP CXM CET GEN TBM TMP CIP\n",
       " 0  11658_4#1  2006.0   S   S   S  NaN   S   S   R   S   S   S   S   S\n",
       " 1  11657_5#1  2006.0   S   S   R  NaN   R   S   S   S   S   S   R   R)"
      ]
     },
     "execution_count": 4,
     "metadata": {},
     "output_type": "execute_result"
    }
   ],
   "source": [
    "metadata_panta.shape, metadata_panta.head(2)"
   ]
  },
  {
   "cell_type": "code",
   "execution_count": 5,
   "id": "fa078903-6ee6-4691-a788-19dc9cb68b09",
   "metadata": {},
   "outputs": [],
   "source": [
    "accession_isolate = pd.read_csv(\"../data/Ecoli1936metafiles/sample_isolate.csv\")"
   ]
  },
  {
   "cell_type": "code",
   "execution_count": 6,
   "id": "c40a5e98-d356-4c3c-8391-8b4e8114017a",
   "metadata": {},
   "outputs": [],
   "source": [
    "iso2accessiondict = {}\n",
    "for i in range(len(accession_isolate.index)):\n",
    "    iso2accessiondict[accession_isolate.iloc[i,1]] = accession_isolate.iloc[i,0]"
   ]
  },
  {
   "cell_type": "code",
   "execution_count": 7,
   "id": "9b21ca93-d24b-42f5-a561-3b8d7dc4ba88",
   "metadata": {},
   "outputs": [],
   "source": [
    "# iso2accessiondict # {'11658_4#2': 'SAMEA2204231', '11657_5#3': 'SAMEA2204244',..."
   ]
  },
  {
   "cell_type": "code",
   "execution_count": 8,
   "id": "3697d3d0-1895-4e8b-b09b-83a666fdf55d",
   "metadata": {},
   "outputs": [],
   "source": [
    "idx = 3 # start from 2\n",
    "y_class = metadata_panta.iloc[:,idx].values\n",
    "y, nonenan_index = binary_label(y_class)\n",
    "y_new = y[nonenan_index].astype(int)"
   ]
  },
  {
   "cell_type": "code",
   "execution_count": 9,
   "id": "d04c4dff-40b8-4714-b8b4-6aa0ef16728c",
   "metadata": {},
   "outputs": [
    {
     "data": {
      "text/plain": [
       "(1653, 1576)"
      ]
     },
     "execution_count": 9,
     "metadata": {},
     "output_type": "execute_result"
    }
   ],
   "source": [
    "len(y_class), len(y_new)"
   ]
  },
  {
   "cell_type": "code",
   "execution_count": 10,
   "id": "c7997511-c4ea-4cec-90a2-4fd3bee29654",
   "metadata": {},
   "outputs": [],
   "source": [
    "mlstinfo = pd.read_csv(\"Ecolimlst.csv\", header=None)"
   ]
  },
  {
   "cell_type": "code",
   "execution_count": 11,
   "id": "05231fb4-8c25-4c5c-8ab6-c487cb6e8133",
   "metadata": {},
   "outputs": [
    {
     "data": {
      "text/plain": [
       "((1653, 10),\n",
       "                                                    0      1    2        3  \\\n",
       " 0  /data/hoan/amromics/prediction/data/Ecoli1936/...  ecoli  135  adk(13)   \n",
       " 1  /data/hoan/amromics/prediction/data/Ecoli1936/...  ecoli   10  adk(10)   \n",
       " \n",
       "           4         5        6        7         8         9  \n",
       " 0  fumC(39)  gyrB(50)  icd(13)  mdh(16)  purA(37)  recA(25)  \n",
       " 1  fumC(11)   gyrB(4)   icd(8)   mdh(8)   purA(8)   recA(2)  )"
      ]
     },
     "execution_count": 11,
     "metadata": {},
     "output_type": "execute_result"
    }
   ],
   "source": [
    "mlstinfo.shape, mlstinfo.head(2)"
   ]
  },
  {
   "cell_type": "code",
   "execution_count": 12,
   "id": "420776f8-ab70-49f0-b459-4d5f0a0fa0a8",
   "metadata": {},
   "outputs": [],
   "source": [
    "accession2ST = {}\n",
    "for i in range(len(mlstinfo.index)):\n",
    "    acs = mlstinfo.iloc[i,0].split('/')[-1].split('.')[0]\n",
    "    sttype = mlstinfo.iloc[i,2]\n",
    "    accession2ST[acs] = sttype"
   ]
  },
  {
   "cell_type": "code",
   "execution_count": 13,
   "id": "459874cf-438a-406b-baf2-8a29bb19f074",
   "metadata": {},
   "outputs": [],
   "source": [
    "# accession2ST"
   ]
  },
  {
   "cell_type": "code",
   "execution_count": 14,
   "id": "d409b269-0bc2-4f56-8042-1f07aa244e2c",
   "metadata": {},
   "outputs": [],
   "source": [
    "STInfo = []\n",
    "for iso in metadata_panta['Isolate'].values:\n",
    "    accession = iso2accessiondict[iso]\n",
    "    if accession in accession2ST:\n",
    "        STInfo.append(str(accession2ST[accession]))\n",
    "    else:\n",
    "        STInfo.append(np.nan)"
   ]
  },
  {
   "cell_type": "code",
   "execution_count": 15,
   "id": "e381bba3-dfdc-4c30-b389-6ea0e1fe9122",
   "metadata": {},
   "outputs": [],
   "source": [
    "metadata_panta['ST'] = STInfo"
   ]
  },
  {
   "cell_type": "code",
   "execution_count": 16,
   "id": "2bff59e2-c040-4ce6-acdf-7432c27cb41a",
   "metadata": {},
   "outputs": [
    {
     "data": {
      "text/html": [
       "<div>\n",
       "<style scoped>\n",
       "    .dataframe tbody tr th:only-of-type {\n",
       "        vertical-align: middle;\n",
       "    }\n",
       "\n",
       "    .dataframe tbody tr th {\n",
       "        vertical-align: top;\n",
       "    }\n",
       "\n",
       "    .dataframe thead th {\n",
       "        text-align: right;\n",
       "    }\n",
       "</style>\n",
       "<table border=\"1\" class=\"dataframe\">\n",
       "  <thead>\n",
       "    <tr style=\"text-align: right;\">\n",
       "      <th></th>\n",
       "      <th>Isolate</th>\n",
       "      <th>Year</th>\n",
       "      <th>CTZ</th>\n",
       "      <th>CTX</th>\n",
       "      <th>AMP</th>\n",
       "      <th>AMX</th>\n",
       "      <th>AMC</th>\n",
       "      <th>TZP</th>\n",
       "      <th>CXM</th>\n",
       "      <th>CET</th>\n",
       "      <th>GEN</th>\n",
       "      <th>TBM</th>\n",
       "      <th>TMP</th>\n",
       "      <th>CIP</th>\n",
       "      <th>ST</th>\n",
       "    </tr>\n",
       "  </thead>\n",
       "  <tbody>\n",
       "    <tr>\n",
       "      <th>0</th>\n",
       "      <td>11658_4#1</td>\n",
       "      <td>2006.0</td>\n",
       "      <td>S</td>\n",
       "      <td>S</td>\n",
       "      <td>S</td>\n",
       "      <td>NaN</td>\n",
       "      <td>S</td>\n",
       "      <td>S</td>\n",
       "      <td>R</td>\n",
       "      <td>S</td>\n",
       "      <td>S</td>\n",
       "      <td>S</td>\n",
       "      <td>S</td>\n",
       "      <td>S</td>\n",
       "      <td>135</td>\n",
       "    </tr>\n",
       "    <tr>\n",
       "      <th>1</th>\n",
       "      <td>11657_5#1</td>\n",
       "      <td>2006.0</td>\n",
       "      <td>S</td>\n",
       "      <td>S</td>\n",
       "      <td>R</td>\n",
       "      <td>NaN</td>\n",
       "      <td>R</td>\n",
       "      <td>S</td>\n",
       "      <td>S</td>\n",
       "      <td>S</td>\n",
       "      <td>S</td>\n",
       "      <td>S</td>\n",
       "      <td>R</td>\n",
       "      <td>R</td>\n",
       "      <td>10</td>\n",
       "    </tr>\n",
       "  </tbody>\n",
       "</table>\n",
       "</div>"
      ],
      "text/plain": [
       "     Isolate    Year CTZ CTX AMP  AMX AMC TZP CXM CET GEN TBM TMP CIP   ST\n",
       "0  11658_4#1  2006.0   S   S   S  NaN   S   S   R   S   S   S   S   S  135\n",
       "1  11657_5#1  2006.0   S   S   R  NaN   R   S   S   S   S   S   R   R   10"
      ]
     },
     "execution_count": 16,
     "metadata": {},
     "output_type": "execute_result"
    }
   ],
   "source": [
    "metadata_panta.head(2)"
   ]
  },
  {
   "cell_type": "code",
   "execution_count": 17,
   "id": "9b7693be-9456-4c33-a449-75e7abcbd82a",
   "metadata": {},
   "outputs": [],
   "source": [
    "metadata_panta.to_csv(\"metadataEcoliST.csv\", index=None)"
   ]
  },
  {
   "cell_type": "code",
   "execution_count": 18,
   "id": "b0fbc610-bd55-40d8-91b4-1012f9010e1b",
   "metadata": {},
   "outputs": [],
   "source": [
    "# plt.figure(figsize=(15, 5))\n",
    "# my_plot = sns.countplot(data=metadata_panta, x='ST')\n",
    "# my_plot.set_xticklabels(my_plot.get_xticklabels(), rotation=90)\n",
    "# plt.show()"
   ]
  },
  {
   "cell_type": "code",
   "execution_count": 19,
   "id": "d04f791e-8ae7-4e1a-9707-be5bd93351a1",
   "metadata": {},
   "outputs": [
    {
     "data": {
      "image/png": "[encoded data removed]",
      "text/plain": [
       "<Figure size 720x360 with 1 Axes>"
      ]
     },
     "metadata": {
      "needs_background": "light"
     },
     "output_type": "display_data"
    }
   ],
   "source": [
    "newdf = pd.DataFrame(metadata_panta['ST'].value_counts()[:30])\n",
    "newdf['type'] = newdf.index.values\n",
    "plt.figure(figsize=(10, 5))\n",
    "plt.bar(newdf['type'], newdf.iloc[:,0].values, color ='maroon', \n",
    "        width = 0.4)\n",
    "plt.show()"
   ]
  },
  {
   "cell_type": "code",
   "execution_count": 20,
   "id": "f1968f0d-478d-46e7-bc83-aaca179465ac",
   "metadata": {},
   "outputs": [
    {
     "data": {
      "text/html": [
       "<div>\n",
       "<style scoped>\n",
       "    .dataframe tbody tr th:only-of-type {\n",
       "        vertical-align: middle;\n",
       "    }\n",
       "\n",
       "    .dataframe tbody tr th {\n",
       "        vertical-align: top;\n",
       "    }\n",
       "\n",
       "    .dataframe thead th {\n",
       "        text-align: right;\n",
       "    }\n",
       "</style>\n",
       "<table border=\"1\" class=\"dataframe\">\n",
       "  <thead>\n",
       "    <tr style=\"text-align: right;\">\n",
       "      <th></th>\n",
       "      <th>ST</th>\n",
       "      <th>type</th>\n",
       "    </tr>\n",
       "  </thead>\n",
       "  <tbody>\n",
       "    <tr>\n",
       "      <th>73</th>\n",
       "      <td>259</td>\n",
       "      <td>73</td>\n",
       "    </tr>\n",
       "    <tr>\n",
       "      <th>131</th>\n",
       "      <td>244</td>\n",
       "      <td>131</td>\n",
       "    </tr>\n",
       "  </tbody>\n",
       "</table>\n",
       "</div>"
      ],
      "text/plain": [
       "      ST type\n",
       "73   259   73\n",
       "131  244  131"
      ]
     },
     "execution_count": 20,
     "metadata": {},
     "output_type": "execute_result"
    }
   ],
   "source": [
    "# remove rare subtypes (less than 1%)\n",
    "newdf = pd.DataFrame(metadata_panta['ST'].value_counts()[:20])\n",
    "newdf['type'] = newdf.index.values # ST is total count\n",
    "newdf.head(2)"
   ]
  },
  {
   "cell_type": "code",
   "execution_count": 21,
   "id": "8fdf26e9-c2bb-41c6-9240-28a23d56c756",
   "metadata": {},
   "outputs": [],
   "source": [
    "column_names = list(metadata_panta.columns.values)\n",
    "# column_names"
   ]
  },
  {
   "cell_type": "code",
   "execution_count": 23,
   "id": "49d15fd9-bce8-4bd5-a4dc-0f9dc2593e35",
   "metadata": {},
   "outputs": [],
   "source": [
    "# dfsubS.head(2)"
   ]
  },
  {
   "cell_type": "code",
   "execution_count": 24,
   "id": "7e41bae6-7e62-4acf-a43c-cb1e07cd9f34",
   "metadata": {},
   "outputs": [
    {
     "data": {
      "image/png": "[encoded data removed]",
      "text/plain": [
       "<Figure size 720x360 with 1 Axes>"
      ]
     },
     "metadata": {
      "needs_background": "light"
     },
     "output_type": "display_data"
    }
   ],
   "source": [
    "amrindex = 4\n",
    "dfsub = metadata_panta.iloc[:,[amrindex+2,-1]]\n",
    "dfsub = dfsub.dropna()\n",
    "dfsubS = dfsub[dfsub.iloc[:,0]=='R']\n",
    "ratiovec = []\n",
    "for i in range(len(newdf.index)):\n",
    "    subtype = newdf.iloc[i, 1]\n",
    "    total = newdf.iloc[i, 0]\n",
    "    ratio = len(dfsubS[dfsubS['ST'] == subtype])*100.0/total\n",
    "    ratiovec.append(ratio)\n",
    "plt.figure(figsize=(10, 5))\n",
    "plt.bar(newdf['type'], ratiovec, color ='maroon', width = 0.4)\n",
    "plt.show()"
   ]
  },
  {
   "cell_type": "code",
   "execution_count": 35,
   "id": "a50f3eed-20e6-4fb4-b703-ee0b2fec6999",
   "metadata": {},
   "outputs": [
    {
     "data": {
      "image/png": "[encoded data removed]",
      "text/plain": [
       "<Figure size 1800x1584 with 12 Axes>"
      ]
     },
     "metadata": {
      "needs_background": "light"
     },
     "output_type": "display_data"
    }
   ],
   "source": [
    "nPlots = 11\n",
    "fig, ax =plt.subplots(4, 3, figsize=(25, 22))\n",
    "for amrindex in range(nPlots):\n",
    "    # amrindex = 4\n",
    "    dfsub = metadata_panta.iloc[:,[amrindex+2,-1]]\n",
    "    dfsub = dfsub.dropna()\n",
    "    dfsubS = dfsub[dfsub.iloc[:,0]=='R']\n",
    "    ratiovec = []\n",
    "    for i in range(len(newdf.index)):\n",
    "        subtype = newdf.iloc[i, 1]\n",
    "        total = newdf.iloc[i, 0]\n",
    "        ratio = len(dfsubS[dfsubS['ST'] == subtype])*100.0/total\n",
    "        ratiovec.append(ratio)\n",
    "    # print(ratiovec)\n",
    "    # plt.figure(figsize=(10, 5))\n",
    "    ax = plt.subplot(4, 3, amrindex+1)\n",
    "    ax.bar(newdf['type'], ratiovec, color ='maroon', width = 0.6)\n",
    "    ax.set_title(column_names[amrindex+2])\n",
    "    ax.set_ylabel(\"Ratio of resistant ST isolates\")\n",
    "    ax.set_xlabel(\"ST\")\n",
    "plt.show()"
   ]
  }
 ],
 "metadata": {
  "kernelspec": {
   "display_name": "Python py36",
   "language": "python",
   "name": "py36"
  },
  "language_info": {
   "codemirror_mode": {
    "name": "ipython",
    "version": 3
   },
   "file_extension": ".py",
   "mimetype": "text/x-python",
   "name": "python",
   "nbconvert_exporter": "python",
   "pygments_lexer": "ipython3",
   "version": "3.6.10"
  }
 },
 "nbformat": 4,
 "nbformat_minor": 5
}
